{
 "cells": [
  {
   "cell_type": "code",
   "execution_count": 1,
   "metadata": {},
   "outputs": [],
   "source": [
    "import pandas as pd\n",
    "from sklearn.linear_model import LogisticRegression\n",
    "from sklearn.model_selection import cross_val_predict\n",
    "from sklearn.metrics import roc_auc_score\n",
    "from sklearn.metrics import accuracy_score, f1_score, confusion_matrix, recall_score\n",
    "from sklearn.feature_extraction.text import TfidfVectorizer\n",
    "import pickle\n",
    "import numpy as np\n",
    "import matplotlib.pyplot as plt"
   ]
  },
  {
   "cell_type": "code",
   "execution_count": 2,
   "metadata": {},
   "outputs": [],
   "source": [
    "with open('./data/data_mp.csv', encoding='utf-8') as f_in:\n",
    "    y = []\n",
    "    texts = []\n",
    "    for line in f_in:\n",
    "        movie_id, sentiment, text = line.strip('\\n').split('\\t', 3)\n",
    "        if sentiment=='negative' or sentiment=='positive':\n",
    "            y.append(1 if sentiment=='positive' else 0)\n",
    "            texts.append(text)"
   ]
  },
  {
   "cell_type": "code",
   "execution_count": 3,
   "metadata": {},
   "outputs": [
    {
     "name": "stdout",
     "output_type": "stream",
     "text": [
      "(3240, 87073)\n",
      "Wall time: 593 ms\n"
     ]
    }
   ],
   "source": [
    "%%time\n",
    "tfidf = TfidfVectorizer()\n",
    "X = tfidf.fit_transform(texts)\n",
    "print(X.shape)"
   ]
  },
  {
   "cell_type": "code",
   "execution_count": 4,
   "metadata": {},
   "outputs": [
    {
     "name": "stderr",
     "output_type": "stream",
     "text": [
      "[Parallel(n_jobs=-1)]: Using backend LokyBackend with 24 concurrent workers.\n"
     ]
    },
    {
     "name": "stdout",
     "output_type": "stream",
     "text": [
      "Cross-validated AUC: 0.8763\n",
      "Wall time: 1.46 s\n"
     ]
    },
    {
     "name": "stderr",
     "output_type": "stream",
     "text": [
      "[Parallel(n_jobs=-1)]: Done   2 out of   4 | elapsed:    1.2s remaining:    1.2s\n",
      "[Parallel(n_jobs=-1)]: Done   4 out of   4 | elapsed:    1.2s finished\n"
     ]
    }
   ],
   "source": [
    "%%time\n",
    "y_pred_cv = cross_val_predict(LogisticRegression(), X, y, cv=4, n_jobs=-1, verbose=True, method='predict_proba')\n",
    "print('Cross-validated AUC: %.4f' % roc_auc_score(y, y_pred_cv[:,1]))"
   ]
  },
  {
   "cell_type": "code",
   "execution_count": 5,
   "metadata": {},
   "outputs": [
    {
     "name": "stdout",
     "output_type": "stream",
     "text": [
      "Wall time: 296 ms\n"
     ]
    }
   ],
   "source": [
    "%%time\n",
    "L = LogisticRegression(solver='lbfgs', class_weight='balanced')\n",
    "L.fit(X, y)\n",
    "\n",
    "features = tfidf.get_feature_names()\n",
    "features_with_weights = pd.DataFrame(zip(features, L.coef_[0]), columns=['feature', 'weight']).sort_values('weight')"
   ]
  },
  {
   "cell_type": "code",
   "execution_count": 6,
   "metadata": {},
   "outputs": [
    {
     "data": {
      "text/html": [
       "<div>\n",
       "<style scoped>\n",
       "    .dataframe tbody tr th:only-of-type {\n",
       "        vertical-align: middle;\n",
       "    }\n",
       "\n",
       "    .dataframe tbody tr th {\n",
       "        vertical-align: top;\n",
       "    }\n",
       "\n",
       "    .dataframe thead th {\n",
       "        text-align: right;\n",
       "    }\n",
       "</style>\n",
       "<table border=\"1\" class=\"dataframe\">\n",
       "  <thead>\n",
       "    <tr style=\"text-align: right;\">\n",
       "      <th></th>\n",
       "      <th>feature</th>\n",
       "      <th>weight</th>\n",
       "    </tr>\n",
       "  </thead>\n",
       "  <tbody>\n",
       "    <tr>\n",
       "      <th>47118</th>\n",
       "      <td>оттенков</td>\n",
       "      <td>-3.232329</td>\n",
       "    </tr>\n",
       "    <tr>\n",
       "      <th>3479</th>\n",
       "      <td>бдсм</td>\n",
       "      <td>-3.138508</td>\n",
       "    </tr>\n",
       "    <tr>\n",
       "      <th>16178</th>\n",
       "      <td>джонсон</td>\n",
       "      <td>-2.714719</td>\n",
       "    </tr>\n",
       "    <tr>\n",
       "      <th>224</th>\n",
       "      <td>50</td>\n",
       "      <td>-2.573210</td>\n",
       "    </tr>\n",
       "    <tr>\n",
       "      <th>68360</th>\n",
       "      <td>серого</td>\n",
       "      <td>-2.522522</td>\n",
       "    </tr>\n",
       "    <tr>\n",
       "      <th>...</th>\n",
       "      <td>...</td>\n",
       "      <td>...</td>\n",
       "    </tr>\n",
       "    <tr>\n",
       "      <th>24490</th>\n",
       "      <td>икс</td>\n",
       "      <td>1.411449</td>\n",
       "    </tr>\n",
       "    <tr>\n",
       "      <th>26045</th>\n",
       "      <td>каждый</td>\n",
       "      <td>1.604739</td>\n",
       "    </tr>\n",
       "    <tr>\n",
       "      <th>19222</th>\n",
       "      <td>жизни</td>\n",
       "      <td>1.757381</td>\n",
       "    </tr>\n",
       "    <tr>\n",
       "      <th>7</th>\n",
       "      <td>10</td>\n",
       "      <td>2.368080</td>\n",
       "    </tr>\n",
       "    <tr>\n",
       "      <th>47625</th>\n",
       "      <td>очень</td>\n",
       "      <td>2.653243</td>\n",
       "    </tr>\n",
       "  </tbody>\n",
       "</table>\n",
       "<p>87073 rows × 2 columns</p>\n",
       "</div>"
      ],
      "text/plain": [
       "        feature    weight\n",
       "47118  оттенков -3.232329\n",
       "3479       бдсм -3.138508\n",
       "16178   джонсон -2.714719\n",
       "224          50 -2.573210\n",
       "68360    серого -2.522522\n",
       "...         ...       ...\n",
       "24490       икс  1.411449\n",
       "26045    каждый  1.604739\n",
       "19222     жизни  1.757381\n",
       "7            10  2.368080\n",
       "47625     очень  2.653243\n",
       "\n",
       "[87073 rows x 2 columns]"
      ]
     },
     "execution_count": 6,
     "metadata": {},
     "output_type": "execute_result"
    }
   ],
   "source": [
    "features_with_weights"
   ]
  },
  {
   "cell_type": "code",
   "execution_count": 7,
   "metadata": {},
   "outputs": [
    {
     "data": {
      "image/png": "[encoded data removed]",
      "text/plain": [
       "<Figure size 432x288 with 1 Axes>"
      ]
     },
     "metadata": {
      "needs_background": "light"
     },
     "output_type": "display_data"
    },
    {
     "name": "stdout",
     "output_type": "stream",
     "text": [
      "0.4141414141414142 0.9990740740740741\n"
     ]
    }
   ],
   "source": [
    "plt.hist(L.predict_proba(X[np.array(y) == 0])[:, 1], bins=100)\n",
    "plt.hist(L.predict_proba(X[np.array(y) == 1])[:, 1], bins=100)\n",
    "plt.show()\n",
    "\n",
    "best_threshold, best_accuracy = 0.0, 0.0\n",
    "for _ in np.linspace(0, 1, 100):\n",
    "    correct_0 = np.sum(L.predict_proba(X[np.array(y) == 0])[:, 1] < _)\n",
    "    correct_1 = np.sum(L.predict_proba(X[np.array(y) == 1])[:, 1] > _)\n",
    "    accuracy_0 = (correct_0) / (np.sum(np.array(y) == 0))\n",
    "    accuracy_1 = (correct_1) / (np.sum(np.array(y) == 1))\n",
    "    accuracy = (correct_0 + correct_1) / (np.sum(np.array(y) == 0) + np.sum(np.array(y) == 1))\n",
    "    if best_accuracy < accuracy:\n",
    "        best_threshold, best_accuracy = _, accuracy\n",
    "#     print(\"{0:.3f}\\t{1:.3f}\\t{2:.3f}\\t{3:.3f}\\t\".format(_, accuracy_0, accuracy_1, accuracy))\n",
    "print(best_threshold, best_accuracy)"
   ]
  },
  {
   "cell_type": "code",
   "execution_count": 8,
   "metadata": {},
   "outputs": [],
   "source": [
    "with open('data/logreg.pkl', 'wb') as f_out:\n",
    "    pickle.dump(L, f_out)\n",
    "with open('data/tf-idf.pkl', 'wb') as f_out:\n",
    "    pickle.dump(tfidf, f_out)\n",
    "with open('data/params.pkl', 'wb') as f_out:\n",
    "    pickle.dump({'threshold': best_threshold}, f_out)"
   ]
  },
  {
   "cell_type": "code",
   "execution_count": null,
   "metadata": {},
   "outputs": [],
   "source": []
  }
 ],
 "metadata": {
  "kernelspec": {
   "display_name": "Python 3",
   "language": "python",
   "name": "python3"
  },
  "language_info": {
   "codemirror_mode": {
    "name": "ipython",
    "version": 3
   },
   "file_extension": ".py",
   "mimetype": "text/x-python",
   "name": "python",
   "nbconvert_exporter": "python",
   "pygments_lexer": "ipython3",
   "version": "3.9.6"
  },
  "pycharm": {
   "stem_cell": {
    "cell_type": "raw",
    "metadata": {
     "collapsed": false
    },
    "source": []
   }
  }
 },
 "nbformat": 4,
 "nbformat_minor": 2
}
