{
 "cells": [
  {
   "cell_type": "code",
   "execution_count": 13,
   "metadata": {},
   "outputs": [],
   "source": [
    "import requests\n",
    "import grab\n",
    "import json\n",
    "import logging\n",
    "import codecs\n",
    "from collections import defaultdict\n",
    "from lxml.etree import ElementTree, fromstring\n",
    "from bs4 import BeautifulSoup\n",
    "from tqdm import tqdm\n",
    "from multiprocessing.dummy import Pool as ThreadPool\n",
    "from IPython.display import HTML\n",
    "\n",
    "# In case of Windows System go to https://www.lfd.uci.edu/~gohlke/pythonlibs/#pycurl and download binary\n",
    "# ! pip install --user ./pycurl‑7.43.0.3‑cp37‑cp37m‑win_amd64.whl"
   ]
  },
  {
   "cell_type": "markdown",
   "metadata": {},
   "source": [
    "### Get All Movie Links"
   ]
  },
  {
   "cell_type": "code",
   "execution_count": 8,
   "metadata": {},
   "outputs": [
    {
     "name": "stderr",
     "output_type": "stream",
     "text": [
      "C:\\Users\\nahod\\AppData\\Roaming\\Python\\Python37\\site-packages\\ipykernel_launcher.py:13: GrabDeprecationWarning: Call to deprecated function xpath_list. Use grab.doc.select() instead.\n",
      "  del sys.path[0]\n"
     ]
    },
    {
     "name": "stdout",
     "output_type": "stream",
     "text": [
      "Total movie urls: 1040\n",
      "Examples: \n",
      "/film/3563/\n",
      "/film/783486/\n",
      "/film/252626/\n",
      "/film/688832/\n",
      "/film/103785/\n"
     ]
    }
   ],
   "source": [
    "url = 'https://www.kinopoisk.ru/top/lists/186/filtr/all/sort/order/page/%d/perpage/200/'\n",
    "headers = {\n",
    "    'User-Agent': 'Mozilla/5.0 (Macintosh; Intel Mac OS X 10_12_5) AppleWebKit/537.36 (KHTML, like Gecko)' + \n",
    "                  'Chrome/61.0.3163.100 Safari/537.36',\n",
    "}\n",
    "g = grab.Grab(headers=headers)\n",
    "\n",
    "MOVIE_URLS = set()\n",
    "\n",
    "for x in [1,2,3,4,5]:\n",
    "    try:\n",
    "        g.go(url % x)\n",
    "        MOVIE_URLS.update([x for x in g.xpath_list('//a/@href') if x.startswith('/film/') and x.count('/')==3])\n",
    "    except Exception as e:\n",
    "        logging.error(str(e))\n",
    "        logging.error('Error on %s' % x)\n",
    "\n",
    "MOVIE_URLS = list(MOVIE_URLS)\n",
    "print('Total movie urls: %d' % len(MOVIE_URLS))\n",
    "print('Examples: \\n%s' % '\\n'.join(MOVIE_URLS[:5]))"
   ]
  },
  {
   "cell_type": "code",
   "execution_count": 9,
   "metadata": {},
   "outputs": [],
   "source": [
    "def process_movie(x):\n",
    "    results = []\n",
    "    g = grab.Grab(headers=headers)\n",
    "    name = x.split('/')[2]\n",
    "    try:\n",
    "        i = 1\n",
    "        while True:\n",
    "            g.go('https://www.kinopoisk.ru%sord/rating/perpage/200/page/%d/#list' % (x, i), timeout=30)\n",
    "            reviews = g.xpath_list(\"//div[@class='reviewItem userReview']\")\n",
    "            if not reviews:\n",
    "                break\n",
    "            for y in reviews:\n",
    "                d = {'name': name}\n",
    "                if 'bad' in y.getchildren()[2].get('class', ''):\n",
    "                    d['sentiment'] = 'negative'\n",
    "                elif 'good' in y.getchildren()[2].get('class', ''):\n",
    "                    d['sentiment'] = 'positive'\n",
    "                else:\n",
    "                    d['sentiment'] = 'neutral'\n",
    "                d['text'] = y.getchildren()[2].getchildren()[2].text_content().replace('\\n', ' ')\\\n",
    "                    .replace('\\t', ' ').replace('\\r', ' ').strip()\n",
    "                results.append(d)\n",
    "            else:\n",
    "                break\n",
    "            i += 1\n",
    "    except Exception as e:\n",
    "        logging.error('%s %s' % (x, str(e)))\n",
    "    return results"
   ]
  },
  {
   "cell_type": "code",
   "execution_count": 10,
   "metadata": {},
   "outputs": [],
   "source": [
    "def chunks(l, n):\n",
    "    for i in range(0, len(l), n):\n",
    "        yield l[i:i + n]"
   ]
  },
  {
   "cell_type": "code",
   "execution_count": 11,
   "metadata": {},
   "outputs": [
    {
     "name": "stderr",
     "output_type": "stream",
     "text": [
      "  0%|                                                                                                          | 0/65 [00:00<?, ?it/s]C:\\Users\\nahod\\AppData\\Roaming\\Python\\Python37\\site-packages\\ipykernel_launcher.py:9: GrabDeprecationWarning: Call to deprecated function xpath_list. Use grab.doc.select() instead.\n",
      "  if __name__ == '__main__':\n",
      "100%|█████████████████████████████████████████████████████████████████████████████████████████████████| 65/65 [00:49<00:00,  1.70it/s]\n"
     ]
    },
    {
     "name": "stdout",
     "output_type": "stream",
     "text": [
      "Total 55968 reviews\n",
      "Class balance: \n",
      "{\n",
      "    \"positive\": 2945,\n",
      "    \"neutral\": 258,\n",
      "    \"negative\": 295\n",
      "}\n",
      "Wall time: 49.9 s\n"
     ]
    }
   ],
   "source": [
    "%%time\n",
    "pool_size = 16\n",
    "with codecs.open('./data/data_mp.csv', 'w', encoding='utf-8') as f_out:\n",
    "    total_reviews = 0\n",
    "    class_counters = defaultdict(int)\n",
    "    for x in tqdm(chunks(MOVIE_URLS, pool_size), total=len(MOVIE_URLS) // pool_size):\n",
    "        pool = ThreadPool(pool_size)\n",
    "        res = pool.map(process_movie, x)\n",
    "        pool.close()\n",
    "        pool.join()\n",
    "        for y in res:\n",
    "            for z in y:\n",
    "                f_out.write('%s\\t%s\\t%s\\n' % (z['name'], z['sentiment'], z['text']))\n",
    "                total_reviews += len(res)\n",
    "                class_counters[z['sentiment']] += 1\n",
    "print('Total %d reviews' % total_reviews)\n",
    "print('Class balance: \\n%s' % json.dumps(class_counters, indent=4))"
   ]
  },
  {
   "cell_type": "code",
   "execution_count": null,
   "metadata": {},
   "outputs": [],
   "source": []
  }
 ],
 "metadata": {
  "kernelspec": {
   "display_name": "Python 3",
   "language": "python",
   "name": "python3"
  },
  "language_info": {
   "codemirror_mode": {
    "name": "ipython",
    "version": 3
   },
   "file_extension": ".py",
   "mimetype": "text/x-python",
   "name": "python",
   "nbconvert_exporter": "python",
   "pygments_lexer": "ipython3",
   "version": "3.7.0"
  },
  "pycharm": {
   "stem_cell": {
    "cell_type": "raw",
    "source": [],
    "metadata": {
     "collapsed": false
    }
   }
  }
 },
 "nbformat": 4,
 "nbformat_minor": 2
}