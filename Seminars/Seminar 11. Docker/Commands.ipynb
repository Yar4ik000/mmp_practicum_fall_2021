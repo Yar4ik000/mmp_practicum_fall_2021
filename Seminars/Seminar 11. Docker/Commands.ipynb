{
 "cells": [
  {
   "cell_type": "markdown",
   "metadata": {
    "heading_collapsed": true
   },
   "source": [
    "### docker"
   ]
  },
  {
   "cell_type": "code",
   "execution_count": null,
   "metadata": {
    "hidden": true
   },
   "outputs": [],
   "source": [
    "# Скачать контейнер из репозитория\n",
    "docker pull container_name"
   ]
  },
  {
   "cell_type": "code",
   "execution_count": null,
   "metadata": {
    "hidden": true
   },
   "outputs": [],
   "source": [
    "# Запустить контейнер\n",
    "docker run [-d] [-i] [-t] [-p 1234:5000] [-v local_path:container_path] [-w container_working_path] container_name [COMMAND]\n",
    "# Здесь\n",
    "# -d -- запуск в фоновом режиме\n",
    "# -i -- запуск в интерактивном режиме, т.е. даёт возможность взаимодействовать с контейнером через ввод\n",
    "# -t -- создать псевдокоммандную строку\n",
    "# -p -- пробросить порт контейнера 5000 на локальный порт 1234\n",
    "# -v -- примонтировать локальный файл/папку local_path внутрь контейнера по пути container_path\n",
    "# -w -- установить рабочую директорию внутри контейнера\n",
    "# container_name -- имя контейнера\n",
    "# COMMAND -- команда, которую нужно запустить внутри контейнера\n",
    "\n",
    "# Например:\n",
    "# docker run hello-world       # запускает команду по умолчанию внутри контейнера hello-world\n",
    "# docker -i -t ubuntu bash     # запускает командную строку bash внутри контейнера ubuntu выполняя её связывание\n",
    "#                                с \"локальной\" командой строкой (-t) и позволяя ввод в командную строку (-i) "
   ]
  },
  {
   "cell_type": "code",
   "execution_count": null,
   "metadata": {
    "hidden": true
   },
   "outputs": [],
   "source": [
    "# Посмотреть список запущенных [или бывших запущенными] контейнеров\n",
    "docker ps [-a]\n",
    "\n",
    "# Посмотреть список процессов внутри работающего контейнера\n",
    "docker top CONTAINER_ID\n",
    "\n",
    "# Остановить контейнер (т.е. отправить ему SIGTERM и дать время завершиться корректно)\n",
    "docker stop CONTAINER_ID\n",
    "\n",
    "# Убить контейнер (т.е. отправить ему SIGKILL и завершить сразу)\n",
    "docker kill CONTAINER_ID\n",
    "\n",
    "# Удалить контейнер (-f удалить работающий)\n",
    "docker rm [-f] CONTAINER_ID\n",
    "\n",
    "# Остановить все контейнеры и удалить их\n",
    "docker stop $(docker ps -a -q) && docker rm $(docker ps -a -q)"
   ]
  },
  {
   "cell_type": "code",
   "execution_count": null,
   "metadata": {
    "hidden": true
   },
   "outputs": [],
   "source": [
    "# Создать образ в репозитории repo_name c названием image_name и тегом image_tag (обычно latest)\n",
    "docker commit -m \"message\" CONTAINER_ID repo_name/image_name:image_tag"
   ]
  },
  {
   "cell_type": "code",
   "execution_count": null,
   "metadata": {
    "hidden": true
   },
   "outputs": [],
   "source": [
    "# Посмотреть список образов [включая промежуточные образы]\n",
    "docker images [-a]"
   ]
  },
  {
   "cell_type": "code",
   "execution_count": null,
   "metadata": {
    "hidden": true
   },
   "outputs": [],
   "source": [
    "# Удалить образ\n",
    "docker image rm IMAGE_ID"
   ]
  },
  {
   "cell_type": "code",
   "execution_count": null,
   "metadata": {
    "hidden": true
   },
   "outputs": [],
   "source": [
    "# Собрать образ из докерфайла (если в локальной директории лежит Dockerfile)\n",
    "docker build [--no-cache] -t repo_name/image_name:image_tag ."
   ]
  },
  {
   "cell_type": "code",
   "execution_count": null,
   "metadata": {
    "hidden": true
   },
   "outputs": [],
   "source": [
    "# Залить в публичный репозиторий hub.docker.com образ (repo_name должно совпадать с названием вашего репозитория)\n",
    "docker push repo_name/image_name:image_tag"
   ]
  }
 ],
 "metadata": {
  "kernelspec": {
   "display_name": "Python 3",
   "language": "python",
   "name": "python3"
  },
  "language_info": {
   "codemirror_mode": {
    "name": "ipython",
    "version": 3
   },
   "file_extension": ".py",
   "mimetype": "text/x-python",
   "name": "python",
   "nbconvert_exporter": "python",
   "pygments_lexer": "ipython3",
   "version": "3.7.0"
  },
  "pycharm": {
   "stem_cell": {
    "cell_type": "raw",
    "metadata": {
     "collapsed": false
    },
    "source": []
   }
  }
 },
 "nbformat": 4,
 "nbformat_minor": 2
}
