{
 "cells": [
  {
   "cell_type": "markdown",
   "id": "31e8a06b",
   "metadata": {},
   "source": [
    "# Занятие 9. Декораторы\n",
    "### Практикум ММП ВМК МГУ\n",
    "Васильев Руслан, 2021\n",
    "***"
   ]
  },
  {
   "cell_type": "markdown",
   "id": "da49ad20",
   "metadata": {},
   "source": [
    "## Введение"
   ]
  },
  {
   "cell_type": "code",
   "execution_count": 1,
   "id": "6e44dc20",
   "metadata": {},
   "outputs": [],
   "source": [
    "def make_bold(func):\n",
    "    def wrapper():\n",
    "        return '<b>' + func() + '</b>'\n",
    "    return wrapper"
   ]
  },
  {
   "cell_type": "code",
   "execution_count": 2,
   "id": "967fa45d",
   "metadata": {},
   "outputs": [],
   "source": [
    "@make_bold\n",
    "def say():\n",
    "    return 'something'"
   ]
  },
  {
   "cell_type": "code",
   "execution_count": 3,
   "id": "89f1a040",
   "metadata": {},
   "outputs": [
    {
     "data": {
      "text/plain": [
       "'<b>something</b>'"
      ]
     },
     "execution_count": 3,
     "metadata": {},
     "output_type": "execute_result"
    }
   ],
   "source": [
    "say()"
   ]
  },
  {
   "cell_type": "code",
   "execution_count": 4,
   "id": "b74a7ff0",
   "metadata": {},
   "outputs": [],
   "source": [
    "def make_bold(func):\n",
    "    def wrapper(*args, **kwargs):\n",
    "        return '<b>' + func(*args, **kwargs) + '</b>'\n",
    "    return wrapper\n",
    " \n",
    "def make_italic(func):\n",
    "    def wrapper(*args, **kwargs):\n",
    "        return '<i>' + func(*args, **kwargs) + '</i>'\n",
    "    return wrapper"
   ]
  },
  {
   "cell_type": "code",
   "execution_count": 5,
   "id": "5a8ce0b3",
   "metadata": {},
   "outputs": [],
   "source": [
    "@make_bold\n",
    "@make_italic\n",
    "def say(s):\n",
    "    return s"
   ]
  },
  {
   "cell_type": "code",
   "execution_count": 6,
   "id": "39a625b6",
   "metadata": {},
   "outputs": [
    {
     "data": {
      "text/plain": [
       "'<b><i>123</i></b>'"
      ]
     },
     "execution_count": 6,
     "metadata": {},
     "output_type": "execute_result"
    }
   ],
   "source": [
    "say('123')"
   ]
  },
  {
   "cell_type": "markdown",
   "id": "084f2dd5",
   "metadata": {},
   "source": [
    "<div class=\"alert alert-block alert-success\">\n",
    "<b>Синтаксический сахар</b> Декораторы делают код более читаемым: сразу понимаем, что функция задекорирована.\n",
    "</div>"
   ]
  },
  {
   "cell_type": "code",
   "execution_count": 36,
   "id": "c3b12e6c",
   "metadata": {},
   "outputs": [
    {
     "data": {
      "text/plain": [
       "'<b><i>123</i></b>'"
      ]
     },
     "execution_count": 36,
     "metadata": {},
     "output_type": "execute_result"
    }
   ],
   "source": [
    "def say(s):\n",
    "    return s\n",
    "say_bold_italic = make_bold(make_italic(say))\n",
    "say_bold_italic('123')"
   ]
  },
  {
   "cell_type": "markdown",
   "id": "6c37564b",
   "metadata": {},
   "source": [
    "## Что происходит внутри"
   ]
  },
  {
   "cell_type": "code",
   "execution_count": 37,
   "id": "097fd9d7",
   "metadata": {},
   "outputs": [
    {
     "name": "stdout",
     "output_type": "stream",
     "text": [
      "Start decorating...\n",
      "Finish decorating.\n"
     ]
    }
   ],
   "source": [
    "def make_bold_debug(func):\n",
    "    print('Start decorating...')\n",
    "    def wrapper_my(*args, **kwargs):\n",
    "        '''Whis is wrapper'''\n",
    "        output = '<b>' + func(*args, **kwargs) + '</b>'\n",
    "        print('Inside `wrapper`')\n",
    "        return output\n",
    "    print('Finish decorating.')\n",
    "    return wrapper_my\n",
    "\n",
    "@make_bold_debug\n",
    "def say_debug(s):\n",
    "    '''This is say debug'''\n",
    "    print('Inside `say_debug`')\n",
    "    return s"
   ]
  },
  {
   "cell_type": "code",
   "execution_count": 38,
   "id": "c77ee932",
   "metadata": {},
   "outputs": [
    {
     "name": "stdout",
     "output_type": "stream",
     "text": [
      "Inside `say_debug`\n",
      "Inside `wrapper`\n"
     ]
    },
    {
     "data": {
      "text/plain": [
       "'<b>123</b>'"
      ]
     },
     "execution_count": 38,
     "metadata": {},
     "output_type": "execute_result"
    }
   ],
   "source": [
    "say_debug('123')"
   ]
  },
  {
   "cell_type": "markdown",
   "id": "4541dcbc",
   "metadata": {},
   "source": [
    "## Изменение параметров декоратора"
   ]
  },
  {
   "cell_type": "markdown",
   "id": "3edd0feb",
   "metadata": {},
   "source": [
    "<div class=\"alert alert-block alert-danger\">\n",
    "<b>Проблема:</b> параметры задекорированной функции соответствуют обертке.\n",
    "</div>"
   ]
  },
  {
   "cell_type": "code",
   "execution_count": 39,
   "id": "e062a2dc",
   "metadata": {},
   "outputs": [],
   "source": [
    "from functools import wraps\n",
    "\n",
    "def make_bold(func):\n",
    "    @wraps(func)\n",
    "    def wrapper(*args, **kwargs):\n",
    "        '''Make text bold'''\n",
    "        return '<b>' + func(*args, **kwargs) + '</b>'\n",
    "    return wrapper\n",
    "\n",
    "def make_italic(func):\n",
    "    @wraps(func)\n",
    "    def wrapper(*args, **kwargs):\n",
    "        '''Make text italic'''\n",
    "        return '<i>' + func(*args, **kwargs) + '</i>'\n",
    "    return wrapper\n",
    "\n",
    "@make_bold\n",
    "@make_italic\n",
    "def say(s):\n",
    "    '''Say something'''\n",
    "    return s"
   ]
  },
  {
   "cell_type": "markdown",
   "id": "892d1109",
   "metadata": {},
   "source": [
    "Что делает `funtools.wraps` внутри? Вызывает [funtools.update_wrapper](https://docs.python.org/3/library/functools.html#functools.update_wrapper)."
   ]
  },
  {
   "cell_type": "code",
   "execution_count": 40,
   "id": "35636252",
   "metadata": {},
   "outputs": [],
   "source": [
    "from functools import update_wrapper\n",
    "\n",
    "def my_decorator(f):\n",
    "    def my_wraps(wrapper):\n",
    "        return update_wrapper(wrapper, f)\n",
    "    @my_wraps\n",
    "    def wrapper(*args, **kwargs):\n",
    "        '''Inner function'''\n",
    "        return f(*args, **kwargs)\n",
    "    return wrapper"
   ]
  },
  {
   "cell_type": "code",
   "execution_count": 41,
   "id": "5ba08c4e",
   "metadata": {},
   "outputs": [],
   "source": [
    "@my_decorator\n",
    "def f():\n",
    "    pass"
   ]
  },
  {
   "cell_type": "code",
   "execution_count": 42,
   "id": "339764cc",
   "metadata": {},
   "outputs": [
    {
     "name": "stdout",
     "output_type": "stream",
     "text": [
      "Help on function f in module __main__:\n",
      "\n",
      "f()\n",
      "\n"
     ]
    }
   ],
   "source": [
    "help(f)"
   ]
  },
  {
   "cell_type": "code",
   "execution_count": 43,
   "id": "a81a3614",
   "metadata": {},
   "outputs": [
    {
     "name": "stdout",
     "output_type": "stream",
     "text": [
      "<function f at 0x7f10a8520550>\n",
      "<function f at 0x7f10a8520670>\n"
     ]
    }
   ],
   "source": [
    "print(f)\n",
    "print(f.__wrapped__)"
   ]
  },
  {
   "cell_type": "markdown",
   "id": "38b0820f",
   "metadata": {},
   "source": [
    "Что делает `functools.update_wrapper`? Обновляет/переписывает атрибуты:"
   ]
  },
  {
   "cell_type": "code",
   "execution_count": 44,
   "id": "792d106f",
   "metadata": {},
   "outputs": [],
   "source": [
    "def my_decorator(f):\n",
    "    def wrapper(*args, **kwargs):\n",
    "        '''Inner function'''\n",
    "        return f(*args, **kwargs)\n",
    "    wrapper.__module__ = f.__module__\n",
    "    wrapper.__name__ = f.__name__\n",
    "    wrapper.__doc__ = f.__doc__\n",
    "    wrapper.__wrapped__ = f\n",
    "    return wrapper"
   ]
  },
  {
   "cell_type": "code",
   "execution_count": 45,
   "id": "2f9e38f8",
   "metadata": {},
   "outputs": [],
   "source": [
    "@my_decorator\n",
    "def f():\n",
    "    pass"
   ]
  },
  {
   "cell_type": "code",
   "execution_count": 47,
   "id": "f4d07942",
   "metadata": {},
   "outputs": [
    {
     "name": "stdout",
     "output_type": "stream",
     "text": [
      "Help on function f in module __main__:\n",
      "\n",
      "f()\n",
      "\n"
     ]
    }
   ],
   "source": [
    "help(f)"
   ]
  },
  {
   "cell_type": "markdown",
   "id": "4573743d",
   "metadata": {},
   "source": [
    "## Декораторы с аргументами"
   ]
  },
  {
   "cell_type": "markdown",
   "id": "38de1546",
   "metadata": {},
   "source": [
    "### Quick start"
   ]
  },
  {
   "cell_type": "code",
   "execution_count": 48,
   "id": "d6f5e3f4",
   "metadata": {},
   "outputs": [],
   "source": [
    "times = 4\n",
    "\n",
    "def asterisk_decorator(f):\n",
    "    def wrapper(*args, **kwargs):\n",
    "        prefix = suffix = '*' * times\n",
    "        f_result = f(*args, **kwargs)\n",
    "        return prefix + f_result + suffix\n",
    "    return wrapper"
   ]
  },
  {
   "cell_type": "code",
   "execution_count": 49,
   "id": "982f77b1",
   "metadata": {},
   "outputs": [],
   "source": [
    "@asterisk_decorator\n",
    "def say_hello():\n",
    "    return 'Hello!'"
   ]
  },
  {
   "cell_type": "code",
   "execution_count": 50,
   "id": "46a355dc",
   "metadata": {},
   "outputs": [
    {
     "data": {
      "text/plain": [
       "'****Hello!****'"
      ]
     },
     "execution_count": 50,
     "metadata": {},
     "output_type": "execute_result"
    }
   ],
   "source": [
    "say_hello()"
   ]
  },
  {
   "cell_type": "markdown",
   "id": "92d38b4b",
   "metadata": {},
   "source": [
    "<div class=\"alert alert-block alert-info\">\n",
    "<b>Хочется:</b> кастомизировать не только то, что мы оборачиваем, но и сами обертки.\n",
    "</div>"
   ]
  },
  {
   "cell_type": "code",
   "execution_count": 51,
   "id": "3b591a9c",
   "metadata": {},
   "outputs": [],
   "source": [
    "def add_asterisks(times):\n",
    "    def asterisk_decorator(f):\n",
    "        def wrapper(*args, **kwargs):\n",
    "            prefix = suffix = '*' * times\n",
    "            f_result = f(*args, **kwargs)\n",
    "            return prefix + f_result + suffix\n",
    "        return wrapper\n",
    "    return asterisk_decorator"
   ]
  },
  {
   "cell_type": "code",
   "execution_count": 52,
   "id": "2354495a",
   "metadata": {},
   "outputs": [],
   "source": [
    "@add_asterisks(10)\n",
    "def say_hello():\n",
    "    return 'Hello!'"
   ]
  },
  {
   "cell_type": "code",
   "execution_count": 53,
   "id": "94d1efd4",
   "metadata": {},
   "outputs": [
    {
     "data": {
      "text/plain": [
       "'**********Hello!**********'"
      ]
     },
     "execution_count": 53,
     "metadata": {},
     "output_type": "execute_result"
    }
   ],
   "source": [
    "say_hello()"
   ]
  },
  {
   "cell_type": "markdown",
   "id": "f40c786c",
   "metadata": {},
   "source": [
    "<div class=\"alert alert-block alert-warning\">\n",
    "<b>Важно:</b> Декоратор вызывается <b>ровно один раз</b>. После импорта функции уже задекорированы.\n",
    "</div>"
   ]
  },
  {
   "cell_type": "markdown",
   "id": "64329256",
   "metadata": {},
   "source": [
    "### Значения по умолчанию"
   ]
  },
  {
   "cell_type": "code",
   "execution_count": 54,
   "id": "c489f7f1",
   "metadata": {},
   "outputs": [],
   "source": [
    "def add_emoji(emoji, times):\n",
    "    def emoji_decorator(f):\n",
    "        def wrapper(*args, **kwargs):\n",
    "            suffix = ' ' + f'{emoji} ' * times\n",
    "            f_result = f(*args, **kwargs)\n",
    "            return f_result + suffix\n",
    "        return wrapper\n",
    "    return emoji_decorator"
   ]
  },
  {
   "cell_type": "code",
   "execution_count": 55,
   "id": "1de14b52",
   "metadata": {},
   "outputs": [],
   "source": [
    "@add_emoji('🤡', 3)\n",
    "def say_bye():\n",
    "    return 'Poka'"
   ]
  },
  {
   "cell_type": "code",
   "execution_count": 56,
   "id": "7c60d9fe",
   "metadata": {},
   "outputs": [
    {
     "data": {
      "text/plain": [
       "'Poka 🤡 🤡 🤡 '"
      ]
     },
     "execution_count": 56,
     "metadata": {},
     "output_type": "execute_result"
    }
   ],
   "source": [
    "say_bye()"
   ]
  },
  {
   "cell_type": "code",
   "execution_count": 57,
   "id": "22c73a01",
   "metadata": {},
   "outputs": [],
   "source": [
    "def add_emoji(emoji='🙄', times=3):\n",
    "    def emoji_decorator(f):\n",
    "        def wrapper(*args, **kwargs):\n",
    "            suffix = ' ' + f'{emoji} ' * times\n",
    "            f_result = f(*args, **kwargs)\n",
    "            return f_result + suffix\n",
    "        return wrapper\n",
    "    return emoji_decorator"
   ]
  },
  {
   "cell_type": "code",
   "execution_count": 58,
   "id": "00899603",
   "metadata": {},
   "outputs": [],
   "source": [
    "@add_emoji\n",
    "def what_is_your_name():\n",
    "    return '성기훈'"
   ]
  },
  {
   "cell_type": "code",
   "execution_count": 59,
   "id": "d89ade81",
   "metadata": {
    "scrolled": true
   },
   "outputs": [
    {
     "ename": "TypeError",
     "evalue": "emoji_decorator() missing 1 required positional argument: 'f'",
     "output_type": "error",
     "traceback": [
      "\u001b[0;31m---------------------------------------------------------------------------\u001b[0m",
      "\u001b[0;31mTypeError\u001b[0m                                 Traceback (most recent call last)",
      "\u001b[0;32m/tmp/ipykernel_26706/2755864906.py\u001b[0m in \u001b[0;36m<module>\u001b[0;34m\u001b[0m\n\u001b[0;32m----> 1\u001b[0;31m \u001b[0mwhat_is_your_name\u001b[0m\u001b[0;34m(\u001b[0m\u001b[0;34m)\u001b[0m\u001b[0;34m\u001b[0m\u001b[0;34m\u001b[0m\u001b[0m\n\u001b[0m",
      "\u001b[0;31mTypeError\u001b[0m: emoji_decorator() missing 1 required positional argument: 'f'"
     ]
    }
   ],
   "source": [
    "what_is_your_name()"
   ]
  },
  {
   "cell_type": "code",
   "execution_count": 60,
   "id": "3343ef25",
   "metadata": {},
   "outputs": [],
   "source": [
    "@add_emoji(emoji=')')\n",
    "def what_is_your_name():\n",
    "    return '성기훈'"
   ]
  },
  {
   "cell_type": "code",
   "execution_count": 61,
   "id": "c5c0a4b4",
   "metadata": {},
   "outputs": [
    {
     "data": {
      "text/plain": [
       "'성기훈 ) ) ) '"
      ]
     },
     "execution_count": 61,
     "metadata": {},
     "output_type": "execute_result"
    }
   ],
   "source": [
    "what_is_your_name()"
   ]
  },
  {
   "cell_type": "code",
   "execution_count": 62,
   "id": "22cc36c3",
   "metadata": {},
   "outputs": [
    {
     "name": "stdout",
     "output_type": "stream",
     "text": [
      "Inside decorator fabric\n",
      "emoji=<function what_is_your_name at 0x7f10a8520160>, times=3\n"
     ]
    }
   ],
   "source": [
    "def add_emoji_debug(emoji='🙄', times=3):\n",
    "\n",
    "    print('Inside decorator fabric')\n",
    "    print(f'{emoji=}, {times=}')\n",
    "\n",
    "    def emoji_decorator_debug(f):\n",
    "        def wrapper(*args, **kwargs):\n",
    "            suffix = ' ' + f'{emoji} ' * times\n",
    "            f_result = f(*args, **kwargs)\n",
    "            return f_result + suffix\n",
    "        return wrapper\n",
    "\n",
    "    return emoji_decorator_debug\n",
    "\n",
    "@add_emoji_debug\n",
    "def what_is_your_name():\n",
    "    return '성기훈'"
   ]
  },
  {
   "cell_type": "markdown",
   "id": "7c77a601",
   "metadata": {},
   "source": [
    "### Декораторы для декораторов и как избавиться от тройной вложенности"
   ]
  },
  {
   "cell_type": "code",
   "execution_count": 63,
   "id": "080ef6fb",
   "metadata": {},
   "outputs": [],
   "source": [
    "def decorator_with_params(decorator):\n",
    "    '''Декоратор для декораторов'''\n",
    "\n",
    "    def make_decorator(*args, **kwargs):\n",
    "\n",
    "        def decorator_wrapper(f):\n",
    "            return decorator(f, *args, **kwargs)\n",
    "\n",
    "        return decorator_wrapper\n",
    "\n",
    "    return make_decorator"
   ]
  },
  {
   "cell_type": "code",
   "execution_count": 64,
   "id": "773bb871",
   "metadata": {},
   "outputs": [],
   "source": [
    "@decorator_with_params\n",
    "def add_emoji(f, emoji='🙄', times=3):\n",
    "    def wrapper(*args, **kwargs):\n",
    "        suffix = ' ' + f'{emoji} ' * times\n",
    "        f_result = f(*args, **kwargs)\n",
    "        return f_result + suffix\n",
    "    return wrapper"
   ]
  },
  {
   "cell_type": "code",
   "execution_count": 65,
   "id": "abf1914d",
   "metadata": {},
   "outputs": [],
   "source": [
    "@add_emoji()\n",
    "def what_is_your_name():\n",
    "    return '성기훈'"
   ]
  },
  {
   "cell_type": "code",
   "execution_count": 66,
   "id": "c55c0c0d",
   "metadata": {},
   "outputs": [
    {
     "data": {
      "text/plain": [
       "'성기훈 🙄 🙄 🙄 '"
      ]
     },
     "execution_count": 66,
     "metadata": {},
     "output_type": "execute_result"
    }
   ],
   "source": [
    "what_is_your_name()"
   ]
  },
  {
   "cell_type": "code",
   "execution_count": 67,
   "id": "e491437d",
   "metadata": {},
   "outputs": [],
   "source": [
    "@add_emoji(emoji='😷')\n",
    "def what_is_your_name():\n",
    "    return '성기훈'"
   ]
  },
  {
   "cell_type": "code",
   "execution_count": 68,
   "id": "b287cad5",
   "metadata": {},
   "outputs": [
    {
     "data": {
      "text/plain": [
       "'성기훈 😷 😷 😷 '"
      ]
     },
     "execution_count": 68,
     "metadata": {},
     "output_type": "execute_result"
    }
   ],
   "source": [
    "what_is_your_name()"
   ]
  },
  {
   "cell_type": "markdown",
   "id": "d07aeb48",
   "metadata": {},
   "source": [
    "### Обработка обоих сценариев"
   ]
  },
  {
   "cell_type": "markdown",
   "id": "2e057f37",
   "metadata": {},
   "source": [
    "<div class=\"alert alert-block alert-info\">\n",
    "    <b>Костыли:</b> Чтобы каждый раз не писать костыль <b>decorator()</b>, заранее напишем костыль внутри декоратора декораторов.\n",
    "</div>"
   ]
  },
  {
   "cell_type": "code",
   "execution_count": 69,
   "id": "cb1ca3af",
   "metadata": {},
   "outputs": [],
   "source": [
    "def cool_decorator_with_params(decorator):\n",
    "    '''Крутой декоратор для декораторов'''\n",
    "\n",
    "    def make_decorator(*args, **kwargs):\n",
    "\n",
    "        if len(args) == 1 and kwargs == {} and callable(args[0]):\n",
    "            return decorator(args[0])\n",
    "\n",
    "        else:\n",
    "            def decorator_wrapper(f):\n",
    "                return decorator(f, *args, **kwargs)\n",
    "            return decorator_wrapper\n",
    "\n",
    "    return make_decorator"
   ]
  },
  {
   "cell_type": "code",
   "execution_count": 70,
   "id": "5d61071f",
   "metadata": {},
   "outputs": [],
   "source": [
    "@cool_decorator_with_params\n",
    "def add_emoji(f, emoji='☕', times=3):\n",
    "    def wrapper(*args, **kwargs):\n",
    "        suffix = ' ' + f'{emoji} ' * times\n",
    "        f_result = f(*args, **kwargs)\n",
    "        return f_result + suffix\n",
    "    return wrapper"
   ]
  },
  {
   "cell_type": "code",
   "execution_count": 71,
   "id": "496fe3f4",
   "metadata": {},
   "outputs": [],
   "source": [
    "@add_emoji\n",
    "def London_is_the():\n",
    "    return 'capital of Great Britain'"
   ]
  },
  {
   "cell_type": "code",
   "execution_count": 72,
   "id": "750f26d4",
   "metadata": {},
   "outputs": [
    {
     "data": {
      "text/plain": [
       "'capital of Great Britain ☕ ☕ ☕ '"
      ]
     },
     "execution_count": 72,
     "metadata": {},
     "output_type": "execute_result"
    }
   ],
   "source": [
    "London_is_the()"
   ]
  },
  {
   "cell_type": "markdown",
   "id": "0be8513d",
   "metadata": {},
   "source": [
    "## Реализация декоратора с помощью класса"
   ]
  },
  {
   "cell_type": "markdown",
   "id": "cddb9dab",
   "metadata": {},
   "source": [
    "<div class=\"alert alert-block alert-success\">\n",
    "<b>Хмм,</b> декоратор — callable объект. Чтобы экземпляр класса можно было использовать как декоратор, нужно определить метод <b>__call__</b>.\n",
    "</div>"
   ]
  },
  {
   "cell_type": "code",
   "execution_count": 73,
   "id": "72aa5822",
   "metadata": {},
   "outputs": [],
   "source": [
    "from time import time\n",
    "\n",
    "class Timer:\n",
    "    def __init__(self, f):\n",
    "        self.f = f\n",
    "\n",
    "    def __call__(self, *args, **kwargs):\n",
    "        start = time()\n",
    "        result = self.f(*args, **kwargs)\n",
    "        duration = time() - start\n",
    "        print(f'{self.f.__name__} duration: {duration:3f} seconds')\n",
    "        return result"
   ]
  },
  {
   "cell_type": "code",
   "execution_count": 74,
   "id": "063c86e1",
   "metadata": {},
   "outputs": [],
   "source": [
    "@Timer\n",
    "def slow_funtion(n=7):\n",
    "    return sum(range(10 ** n))"
   ]
  },
  {
   "cell_type": "code",
   "execution_count": 75,
   "id": "168cd74d",
   "metadata": {},
   "outputs": [
    {
     "name": "stdout",
     "output_type": "stream",
     "text": [
      "slow_funtion duration: 1.725039 seconds\n"
     ]
    },
    {
     "data": {
      "text/plain": [
       "4999999950000000"
      ]
     },
     "execution_count": 75,
     "metadata": {},
     "output_type": "execute_result"
    }
   ],
   "source": [
    "slow_funtion(8)"
   ]
  },
  {
   "cell_type": "markdown",
   "id": "b1ad7fa7",
   "metadata": {},
   "source": [
    "## Декораторы для класса"
   ]
  },
  {
   "cell_type": "code",
   "execution_count": 76,
   "id": "650f750b",
   "metadata": {},
   "outputs": [],
   "source": [
    "def add_cpu(target_class):\n",
    "    print('Inside add cpu')\n",
    "    target_class.device = 'cpu'\n",
    "    return target_class"
   ]
  },
  {
   "cell_type": "code",
   "execution_count": 77,
   "id": "ac6e1f1f",
   "metadata": {},
   "outputs": [
    {
     "name": "stdout",
     "output_type": "stream",
     "text": [
      "Inside add cpu\n"
     ]
    }
   ],
   "source": [
    "@add_cpu\n",
    "class MachineLearning:\n",
    "    def __init__(self, n_layers=96):\n",
    "        print('__init__')\n",
    "        self.n_layers=96\n",
    "\n",
    "    def train(self):\n",
    "        pass"
   ]
  },
  {
   "cell_type": "code",
   "execution_count": 78,
   "id": "4710a3d5",
   "metadata": {},
   "outputs": [
    {
     "name": "stdout",
     "output_type": "stream",
     "text": [
      "__init__\n"
     ]
    },
    {
     "data": {
      "text/plain": [
       "'cpu'"
      ]
     },
     "execution_count": 78,
     "metadata": {},
     "output_type": "execute_result"
    }
   ],
   "source": [
    "model = MachineLearning()\n",
    "model.device"
   ]
  },
  {
   "cell_type": "code",
   "execution_count": 79,
   "id": "e160cd5b",
   "metadata": {},
   "outputs": [],
   "source": [
    "def add_device(device):\n",
    "    print('add_device')\n",
    "    def wrapper(target_class):\n",
    "        print('wrapper')\n",
    "        target_class.device = device\n",
    "        return target_class\n",
    "    return wrapper"
   ]
  },
  {
   "cell_type": "code",
   "execution_count": 80,
   "id": "49c4f612",
   "metadata": {},
   "outputs": [
    {
     "name": "stdout",
     "output_type": "stream",
     "text": [
      "add_device\n",
      "wrapper\n"
     ]
    }
   ],
   "source": [
    "@add_device('cuda')\n",
    "class MachineLearning:\n",
    "    def __init__(self, n_layers=96):\n",
    "        self.n_layers=96\n",
    "\n",
    "    def train(self):\n",
    "        pass"
   ]
  },
  {
   "cell_type": "code",
   "execution_count": 81,
   "id": "e9338d5f",
   "metadata": {},
   "outputs": [
    {
     "data": {
      "text/plain": [
       "'cuda'"
      ]
     },
     "execution_count": 81,
     "metadata": {},
     "output_type": "execute_result"
    }
   ],
   "source": [
    "model = MachineLearning()\n",
    "model.device"
   ]
  },
  {
   "cell_type": "markdown",
   "id": "1d5e48c5",
   "metadata": {},
   "source": [
    "## Готовые декораторы"
   ]
  },
  {
   "cell_type": "markdown",
   "id": "afe03754",
   "metadata": {},
   "source": [
    "### Кэширование и мемоизация"
   ]
  },
  {
   "cell_type": "code",
   "execution_count": 82,
   "id": "a9c885ab",
   "metadata": {},
   "outputs": [],
   "source": [
    "from functools import lru_cache"
   ]
  },
  {
   "cell_type": "code",
   "execution_count": 92,
   "id": "90f90f3c",
   "metadata": {},
   "outputs": [],
   "source": [
    "@lru_cache(maxsize=1000)\n",
    "def factorial(n):\n",
    "    if n == 0:\n",
    "        return 1\n",
    "    elif n > 0:\n",
    "        return n * factorial(n - 1)\n",
    "    else:\n",
    "        raise ValueError('Factorial argument should be non-negative integer')"
   ]
  },
  {
   "cell_type": "code",
   "execution_count": 93,
   "id": "6c356ef9",
   "metadata": {},
   "outputs": [
    {
     "name": "stdout",
     "output_type": "stream",
     "text": [
      "CPU times: user 1.5 ms, sys: 0 ns, total: 1.5 ms\n",
      "Wall time: 1.51 ms\n"
     ]
    }
   ],
   "source": [
    "%%time\n",
    "_ = factorial(1000)"
   ]
  },
  {
   "cell_type": "code",
   "execution_count": 94,
   "id": "40318d92",
   "metadata": {},
   "outputs": [
    {
     "name": "stdout",
     "output_type": "stream",
     "text": [
      "CPU times: user 4 µs, sys: 0 ns, total: 4 µs\n",
      "Wall time: 7.15 µs\n"
     ]
    }
   ],
   "source": [
    "%%time\n",
    "_ = factorial(1000)"
   ]
  },
  {
   "cell_type": "markdown",
   "id": "9ed58c94",
   "metadata": {},
   "source": [
    "* В простейших случаях можно обойтись [functools.cache](https://docs.python.org/3/library/functools.html#functools.cache) — нет лимитов\n",
    "* Библиотека для мемоизации (еще больше декораторов): https://github.com/tkem/cachetools"
   ]
  },
  {
   "cell_type": "code",
   "execution_count": 95,
   "id": "14793336",
   "metadata": {},
   "outputs": [],
   "source": [
    "import numpy as np\n",
    "from joblib import Memory\n",
    "\n",
    "cachedir = './here'\n",
    "memory = Memory(cachedir, verbose=0)\n",
    "\n",
    "@memory.cache\n",
    "def pow2(X):\n",
    "    return X ** 2"
   ]
  },
  {
   "cell_type": "code",
   "execution_count": 96,
   "id": "eed39eae",
   "metadata": {},
   "outputs": [
    {
     "data": {
      "text/plain": [
       "array([ 0,  1,  4,  9, 16, 25, 36, 49, 64, 81])"
      ]
     },
     "execution_count": 96,
     "metadata": {},
     "output_type": "execute_result"
    }
   ],
   "source": [
    "pow2(np.arange(10))"
   ]
  },
  {
   "cell_type": "code",
   "execution_count": 98,
   "id": "5c589c76",
   "metadata": {},
   "outputs": [
    {
     "name": "stdout",
     "output_type": "stream",
     "text": [
      "joblib\r\n"
     ]
    }
   ],
   "source": [
    "!ls ./here"
   ]
  },
  {
   "cell_type": "markdown",
   "id": "d2c1ba37",
   "metadata": {},
   "source": [
    "## Варнгинги"
   ]
  },
  {
   "cell_type": "code",
   "execution_count": 99,
   "id": "3186618d",
   "metadata": {},
   "outputs": [],
   "source": [
    "from warnings import warn"
   ]
  },
  {
   "cell_type": "code",
   "execution_count": 100,
   "id": "0bf26856",
   "metadata": {},
   "outputs": [],
   "source": [
    "def deprecated(f):\n",
    "    message = f.__name__ + ' is deprecated and will be removed in future version'\n",
    "    warn(message)\n",
    "    return f"
   ]
  },
  {
   "cell_type": "code",
   "execution_count": 101,
   "id": "4f96cd37",
   "metadata": {},
   "outputs": [
    {
     "name": "stderr",
     "output_type": "stream",
     "text": [
      "/tmp/ipykernel_26706/638169632.py:3: UserWarning: mda is deprecated and will be removed in future version\n",
      "  warn(message)\n"
     ]
    }
   ],
   "source": [
    "@deprecated\n",
    "def mda():\n",
    "    pass"
   ]
  },
  {
   "cell_type": "markdown",
   "id": "e6b1e5fc",
   "metadata": {},
   "source": [
    "## Декораторы для методов класса"
   ]
  },
  {
   "cell_type": "markdown",
   "id": "fd05b70d",
   "metadata": {},
   "source": [
    "<div class=\"alert alert-block alert-success\">\n",
    "Наиболее часто встречающиеся декораторы для методов класса:\n",
    " <ul>\n",
    "  <li><b>@property</b> для вычисляемых атрибутов;</li>\n",
    "  <li><b>@staticmethod</b> для превращения метода в статическую функцию (аналог в C++), при вызове неявные первый аргумент не передается;</li>\n",
    "  <li><b>@classmethod</b>  для передачи первым аргументов всего класса, а не экземпляра.</li>\n",
    "</ul> \n",
    "</div>"
   ]
  },
  {
   "cell_type": "code",
   "execution_count": 102,
   "id": "17edfc3a",
   "metadata": {},
   "outputs": [],
   "source": [
    "class Date(object):\n",
    "    def __init__(self, day=0, month=0, year=0):\n",
    "        self.day = day\n",
    "        self.month = month\n",
    "        self.year = year\n",
    "    \n",
    "    @property\n",
    "    def favourite_year(self):\n",
    "        return self.year\n",
    "\n",
    "    @classmethod\n",
    "    def from_string(cls, date_as_string):\n",
    "        day, month, year = map(int, date_as_string.split('-'))\n",
    "        date = cls(day, month, year)\n",
    "        return date\n",
    "\n",
    "    @staticmethod\n",
    "    def is_date_2021(date_as_string):\n",
    "        day, month, year = map(int, date_as_string.split('-'))\n",
    "        return year == 2021\n",
    "\n",
    "    def __repr__(self):\n",
    "        return f'Date({self.day}, {self.month}, {self.year})'"
   ]
  },
  {
   "cell_type": "code",
   "execution_count": 103,
   "id": "2fa8d43a",
   "metadata": {},
   "outputs": [
    {
     "data": {
      "text/plain": [
       "Date(25, 10, 2021)"
      ]
     },
     "execution_count": 103,
     "metadata": {},
     "output_type": "execute_result"
    }
   ],
   "source": [
    "date = Date(25, 10, 2021)\n",
    "date"
   ]
  },
  {
   "cell_type": "code",
   "execution_count": 104,
   "id": "d8532bc7",
   "metadata": {},
   "outputs": [
    {
     "data": {
      "text/plain": [
       "Date(25, 11, 2021)"
      ]
     },
     "execution_count": 104,
     "metadata": {},
     "output_type": "execute_result"
    }
   ],
   "source": [
    "Date.from_string('25-11-2021')"
   ]
  },
  {
   "cell_type": "code",
   "execution_count": 105,
   "id": "ffddd10f",
   "metadata": {},
   "outputs": [
    {
     "data": {
      "text/plain": [
       "2021"
      ]
     },
     "execution_count": 105,
     "metadata": {},
     "output_type": "execute_result"
    }
   ],
   "source": [
    "date.favourite_year"
   ]
  },
  {
   "cell_type": "code",
   "execution_count": 106,
   "id": "4218f82a",
   "metadata": {},
   "outputs": [
    {
     "ename": "TypeError",
     "evalue": "is_date_2021() missing 1 required positional argument: 'date_as_string'",
     "output_type": "error",
     "traceback": [
      "\u001b[0;31m---------------------------------------------------------------------------\u001b[0m",
      "\u001b[0;31mTypeError\u001b[0m                                 Traceback (most recent call last)",
      "\u001b[0;32m/tmp/ipykernel_26706/2459518903.py\u001b[0m in \u001b[0;36m<module>\u001b[0;34m\u001b[0m\n\u001b[0;32m----> 1\u001b[0;31m \u001b[0mdate\u001b[0m\u001b[0;34m.\u001b[0m\u001b[0mis_date_2021\u001b[0m\u001b[0;34m(\u001b[0m\u001b[0;34m)\u001b[0m\u001b[0;34m\u001b[0m\u001b[0;34m\u001b[0m\u001b[0m\n\u001b[0m",
      "\u001b[0;31mTypeError\u001b[0m: is_date_2021() missing 1 required positional argument: 'date_as_string'"
     ]
    }
   ],
   "source": [
    "date.is_date_2021()"
   ]
  },
  {
   "cell_type": "code",
   "execution_count": 107,
   "id": "059fade0",
   "metadata": {},
   "outputs": [
    {
     "data": {
      "text/plain": [
       "True"
      ]
     },
     "execution_count": 107,
     "metadata": {},
     "output_type": "execute_result"
    }
   ],
   "source": [
    "Date.is_date_2021('31-10-2021')"
   ]
  },
  {
   "cell_type": "markdown",
   "id": "6c0be919",
   "metadata": {},
   "source": [
    "## Dataclass"
   ]
  },
  {
   "cell_type": "code",
   "execution_count": 108,
   "id": "0f340dd2",
   "metadata": {},
   "outputs": [],
   "source": [
    "from dataclasses import dataclass, field"
   ]
  },
  {
   "cell_type": "code",
   "execution_count": 109,
   "id": "e3da6bf2",
   "metadata": {},
   "outputs": [],
   "source": [
    "@dataclass\n",
    "class DataLoader:\n",
    "    dataset_path: str\n",
    "    batch_size: int\n",
    "    num_workers: int\n",
    "    drop_last: bool = False\n",
    "    output_paths: list[str] = field(default_factory=lambda: ['./'])\n",
    "        \n",
    "    def __post_init__(self):\n",
    "        self.seed = 0"
   ]
  },
  {
   "cell_type": "code",
   "execution_count": 110,
   "id": "394e0d4c",
   "metadata": {},
   "outputs": [],
   "source": [
    "dl = DataLoader('path/to/dataset', 32, 2, drop_last=True)"
   ]
  },
  {
   "cell_type": "code",
   "execution_count": 111,
   "id": "9d9741fa",
   "metadata": {},
   "outputs": [
    {
     "data": {
      "text/plain": [
       "['./']"
      ]
     },
     "execution_count": 111,
     "metadata": {},
     "output_type": "execute_result"
    }
   ],
   "source": [
    "dl.output_paths"
   ]
  },
  {
   "cell_type": "code",
   "execution_count": 112,
   "id": "c94441fa",
   "metadata": {},
   "outputs": [
    {
     "data": {
      "text/plain": [
       "0"
      ]
     },
     "execution_count": 112,
     "metadata": {},
     "output_type": "execute_result"
    }
   ],
   "source": [
    "dl.seed"
   ]
  },
  {
   "cell_type": "markdown",
   "id": "a09bbec5",
   "metadata": {},
   "source": [
    "## Несортированные примеры"
   ]
  },
  {
   "cell_type": "markdown",
   "id": "3bee4e0f",
   "metadata": {},
   "source": [
    "### Отладка: выводим размеры тензора"
   ]
  },
  {
   "cell_type": "code",
   "execution_count": 113,
   "id": "82cf09de",
   "metadata": {},
   "outputs": [],
   "source": [
    "import numpy as np\n",
    "\n",
    "def print_shapes(f):\n",
    "    @wraps(f)\n",
    "    def wrapper(**kwargs):\n",
    "        print('*** Shapes ***')\n",
    "        for name, obj in kwargs.items():\n",
    "            if isinstance(obj, np.ndarray):\n",
    "                print(f'Input {name}: {obj.shape}')\n",
    "        result = f(**kwargs)\n",
    "        if isinstance(result, np.ndarray):\n",
    "            print(f'Output: {result.shape}')\n",
    "        print('***')\n",
    "        return result\n",
    "    return wrapper"
   ]
  },
  {
   "cell_type": "code",
   "execution_count": 114,
   "id": "907cbdf4",
   "metadata": {},
   "outputs": [],
   "source": [
    "@print_shapes\n",
    "def LinearLayer(*, X, W, b):\n",
    "    return X @ W + b"
   ]
  },
  {
   "cell_type": "markdown",
   "id": "286fe1fe",
   "metadata": {},
   "source": [
    "```python\n",
    "def func(param1, param2, /, param3, *, param4, param5):\n",
    "    pass\n",
    "```\n",
    "* `param1`, `param2`: positional-only\n",
    "* `param3`: positional or keyword\n",
    "* `param4`, `param5`: keyword-only\n",
    "\n",
    "Подробнее (Python 3.8): [документация](https://docs.python.org/3/reference/compound_stmts.html#function-definitions)."
   ]
  },
  {
   "cell_type": "code",
   "execution_count": 115,
   "id": "5e4139dc",
   "metadata": {},
   "outputs": [
    {
     "name": "stdout",
     "output_type": "stream",
     "text": [
      "*** Shapes ***\n",
      "Input X: (20, 10, 30)\n",
      "Input W: (30, 100)\n",
      "Input b: (100,)\n",
      "Output: (20, 10, 100)\n",
      "***\n"
     ]
    }
   ],
   "source": [
    "_ = LinearLayer(\n",
    "    X=np.random.randn(20, 10, 30),\n",
    "    W=np.random.randn(30, 100),\n",
    "    b=np.random.randn(100),\n",
    ")"
   ]
  },
  {
   "cell_type": "markdown",
   "id": "538e9ea6",
   "metadata": {},
   "source": [
    "* Можно повозиться с позиционными аргументами с помощью [inspect.getfullargspec](https://docs.python.org/3/library/inspect.html#inspect.getfullargspec)\n",
    "* Можно (и даже лучше) использовать [type hints](https://docs.python.org/3/library/typing.html)."
   ]
  },
  {
   "cell_type": "code",
   "execution_count": 116,
   "id": "ae7ffb80",
   "metadata": {},
   "outputs": [],
   "source": [
    "@print_shapes\n",
    "def LinearLayer(\n",
    "    dummy_param,\n",
    "    X: np.ndarray,\n",
    "    W: np.ndarray,\n",
    "    b: np.ndarray,\n",
    "    scale: float = 2.0,\n",
    "    hello_who: str = 'world?'\n",
    ") -> np.ndarray:\n",
    "\n",
    "    print(f'Hello, {hello_who}')\n",
    "\n",
    "    X_scaled = X / scale\n",
    "    Y_scaled = X_scaled @ W\n",
    "    Y = Y * scale\n",
    "    output = Y + b\n",
    "\n",
    "    return output"
   ]
  },
  {
   "cell_type": "code",
   "execution_count": 117,
   "id": "4c6c08ae",
   "metadata": {},
   "outputs": [
    {
     "data": {
      "text/plain": [
       "{'X': numpy.ndarray,\n",
       " 'W': numpy.ndarray,\n",
       " 'b': numpy.ndarray,\n",
       " 'scale': float,\n",
       " 'hello_who': str,\n",
       " 'return': numpy.ndarray}"
      ]
     },
     "execution_count": 117,
     "metadata": {},
     "output_type": "execute_result"
    }
   ],
   "source": [
    "LinearLayer.__annotations__"
   ]
  },
  {
   "cell_type": "code",
   "execution_count": 118,
   "id": "49e8d031",
   "metadata": {},
   "outputs": [
    {
     "data": {
      "text/plain": [
       "{'X': numpy.ndarray,\n",
       " 'W': numpy.ndarray,\n",
       " 'b': numpy.ndarray,\n",
       " 'scale': float,\n",
       " 'hello_who': str,\n",
       " 'return': numpy.ndarray}"
      ]
     },
     "execution_count": 118,
     "metadata": {},
     "output_type": "execute_result"
    }
   ],
   "source": [
    "from typing import get_type_hints\n",
    "\n",
    "get_type_hints(LinearLayer)"
   ]
  },
  {
   "cell_type": "code",
   "execution_count": 119,
   "id": "27d45b2a",
   "metadata": {},
   "outputs": [
    {
     "data": {
      "text/plain": [
       "FullArgSpec(args=[], varargs=None, varkw='kwargs', defaults=None, kwonlyargs=[], kwonlydefaults=None, annotations={'return': <class 'numpy.ndarray'>})"
      ]
     },
     "execution_count": 119,
     "metadata": {},
     "output_type": "execute_result"
    }
   ],
   "source": [
    "from inspect import getfullargspec\n",
    "\n",
    "getfullargspec(LinearLayer)"
   ]
  },
  {
   "cell_type": "markdown",
   "id": "cec6c002",
   "metadata": {},
   "source": [
    "# Links\n",
    "* https://github.com/mmp-practicum-team/mmp_practicum_fall_2020/blob/master/09_decorators/decorators.pdf\n",
    "* https://habr.com/ru/post/141411/\n",
    "* https://habr.com/ru/post/141501/\n",
    "* https://www.learnpython.org/en/Decorators\n",
    "* https://wiki.python.org/moin/FunctionWrappers\n",
    "* https://www.kite.com/python/answers/how-to-decorate-a-class-in-python\n",
    "* https://stackoverflow.com/questions/12179271/meaning-of-classmethod-and-staticmethod-for-beginner\n",
    "* http://uneex.ru/LecturesCMC/PythonIntro2020/11_MiscOOP\n",
    "* https://www.kite.com/python/answers/how-to-decorate-a-class-in-python\n",
    "* https://docs.python.org/3/library/dataclasses.html"
   ]
  }
 ],
 "metadata": {
  "kernelspec": {
   "display_name": "Python 3.9.7 64-bit ('mat': conda)",
   "language": "python",
   "name": "python397jvsc74a57bd066f08eb3b3f7db7e291b1d0b71cfcde531dc5524ced5551ec37dc6a3d49faac8"
  },
  "language_info": {
   "codemirror_mode": {
    "name": "ipython",
    "version": 3
   },
   "file_extension": ".py",
   "mimetype": "text/x-python",
   "name": "python",
   "nbconvert_exporter": "python",
   "pygments_lexer": "ipython3",
   "version": "3.9.7"
  }
 },
 "nbformat": 4,
 "nbformat_minor": 5
}
