{
 "cells": [
  {
   "cell_type": "markdown",
   "metadata": {},
   "source": [
    "# Занятие 1. Введение в Python. Основные типы, структуры данных и операции над ними.\n",
    "\n",
    "## Курс Практикум на ЭВМ осень 2021-2022, кафедра ММП, ВМК МГУ\n",
    "\n",
    "\n",
    "## Находнов Максим\n",
    "\n",
    "О чём можно узнать из этого ноутбука:\n",
    "* Python как калькулятор\n",
    "* Базовые структуры данных: списки, строки, словари, множества, кортежи\n",
    "* Условный оператор\n",
    "* Циклы\n",
    "* Основные принципы работы с файлами, функциями, модулями\n",
    "* Переменные, объекты, ссылки"
   ]
  },
  {
   "cell_type": "markdown",
   "metadata": {},
   "source": [
    "## Основные типы данных в Python"
   ]
  },
  {
   "cell_type": "markdown",
   "metadata": {
    "ExecuteTime": {
     "end_time": "2021-09-01T21:58:07.174746Z",
     "start_time": "2021-09-01T21:58:07.162750Z"
    }
   },
   "source": [
    "**Внимание**: при работе в терминале или jupyter-notebook результат последней операции автоматически выводится на экран."
   ]
  },
  {
   "cell_type": "markdown",
   "metadata": {},
   "source": [
    "Python — это язык со **строгой типизацией**, что означает, что любой объект имеет фиксированный тип, который не меняется в зависимости от контекста. Изменение типа объекта возможно только явно."
   ]
  },
  {
   "cell_type": "markdown",
   "metadata": {},
   "source": [
    "## Числовые типы данных (Numeric Types). Python как калькулятор"
   ]
  },
  {
   "cell_type": "markdown",
   "metadata": {},
   "source": [
    "В этом разделе мы познакомимся с числовыми типами языка Python и рассмотрим базовые операции над ними."
   ]
  },
  {
   "cell_type": "markdown",
   "metadata": {},
   "source": [
    "В языке Python есть 3 основых численных типа данных:"
   ]
  },
  {
   "cell_type": "markdown",
   "metadata": {},
   "source": [
    "### Целые числа (int)"
   ]
  },
  {
   "cell_type": "code",
   "execution_count": 1,
   "metadata": {
    "ExecuteTime": {
     "end_time": "2021-09-02T00:28:39.437556Z",
     "start_time": "2021-09-02T00:28:39.420557Z"
    }
   },
   "outputs": [
    {
     "data": {
      "text/plain": [
       "153"
      ]
     },
     "execution_count": 1,
     "metadata": {},
     "output_type": "execute_result"
    }
   ],
   "source": [
    "153"
   ]
  },
  {
   "cell_type": "markdown",
   "metadata": {
    "ExecuteTime": {
     "end_time": "2021-09-01T21:39:49.122925Z",
     "start_time": "2021-09-01T21:39:49.106925Z"
    }
   },
   "source": [
    "Целые числа в python поддерживают длинную арифметику, то есть этот тип не ограничен наперёд заданной битностью: "
   ]
  },
  {
   "cell_type": "code",
   "execution_count": 2,
   "metadata": {
    "ExecuteTime": {
     "end_time": "2021-09-02T00:28:45.836736Z",
     "start_time": "2021-09-02T00:28:45.818739Z"
    }
   },
   "outputs": [
    {
     "data": {
      "text/plain": [
       "1233493949341939193192391923912931939129391923912931923912"
      ]
     },
     "execution_count": 2,
     "metadata": {},
     "output_type": "execute_result"
    }
   ],
   "source": [
    "1233493949341939193192391923912931939129391923912931923912"
   ]
  },
  {
   "cell_type": "code",
   "execution_count": 3,
   "metadata": {
    "ExecuteTime": {
     "end_time": "2021-09-02T00:28:47.022582Z",
     "start_time": "2021-09-02T00:28:47.012584Z"
    }
   },
   "outputs": [
    {
     "data": {
      "text/plain": [
       "int"
      ]
     },
     "execution_count": 3,
     "metadata": {},
     "output_type": "execute_result"
    }
   ],
   "source": [
    "type(123)"
   ]
  },
  {
   "cell_type": "markdown",
   "metadata": {},
   "source": [
    "### Вещественные числа (float)"
   ]
  },
  {
   "cell_type": "markdown",
   "metadata": {},
   "source": [
    "Вещественные числа обычно соответсвуют числам двойной точности (double в С/С++)"
   ]
  },
  {
   "cell_type": "code",
   "execution_count": 4,
   "metadata": {
    "ExecuteTime": {
     "end_time": "2021-09-02T00:28:50.692735Z",
     "start_time": "2021-09-02T00:28:50.674739Z"
    }
   },
   "outputs": [
    {
     "data": {
      "text/plain": [
       "153.03"
      ]
     },
     "execution_count": 4,
     "metadata": {},
     "output_type": "execute_result"
    }
   ],
   "source": [
    "153.03"
   ]
  },
  {
   "cell_type": "code",
   "execution_count": 5,
   "metadata": {
    "ExecuteTime": {
     "end_time": "2021-09-02T00:28:51.255892Z",
     "start_time": "2021-09-02T00:28:51.243892Z"
    }
   },
   "outputs": [
    {
     "data": {
      "text/plain": [
       "1e-05"
      ]
     },
     "execution_count": 5,
     "metadata": {},
     "output_type": "execute_result"
    }
   ],
   "source": [
    "1e-5"
   ]
  },
  {
   "cell_type": "code",
   "execution_count": 6,
   "metadata": {
    "ExecuteTime": {
     "end_time": "2021-09-02T00:28:51.807969Z",
     "start_time": "2021-09-02T00:28:51.803961Z"
    }
   },
   "outputs": [
    {
     "data": {
      "text/plain": [
       "0.001"
      ]
     },
     "execution_count": 6,
     "metadata": {},
     "output_type": "execute_result"
    }
   ],
   "source": [
    ".001"
   ]
  },
  {
   "cell_type": "code",
   "execution_count": 7,
   "metadata": {
    "ExecuteTime": {
     "end_time": "2021-09-02T00:28:52.859794Z",
     "start_time": "2021-09-02T00:28:52.851794Z"
    }
   },
   "outputs": [
    {
     "data": {
      "text/plain": [
       "float"
      ]
     },
     "execution_count": 7,
     "metadata": {},
     "output_type": "execute_result"
    }
   ],
   "source": [
    "type(0.36787944117)"
   ]
  },
  {
   "cell_type": "markdown",
   "metadata": {},
   "source": [
    "### Комплексные числа (complex)"
   ]
  },
  {
   "cell_type": "markdown",
   "metadata": {},
   "source": [
    "Комплексные числа можно задать с использованием литералов `j`, `J`"
   ]
  },
  {
   "cell_type": "code",
   "execution_count": 8,
   "metadata": {
    "ExecuteTime": {
     "end_time": "2021-09-02T00:28:56.186702Z",
     "start_time": "2021-09-02T00:28:56.170706Z"
    }
   },
   "outputs": [
    {
     "data": {
      "text/plain": [
       "(153+0j)"
      ]
     },
     "execution_count": 8,
     "metadata": {},
     "output_type": "execute_result"
    }
   ],
   "source": [
    "153 + 0j"
   ]
  },
  {
   "cell_type": "code",
   "execution_count": 9,
   "metadata": {
    "ExecuteTime": {
     "end_time": "2021-09-02T00:28:56.564467Z",
     "start_time": "2021-09-02T00:28:56.555468Z"
    }
   },
   "outputs": [
    {
     "data": {
      "text/plain": [
       "(412-1j)"
      ]
     },
     "execution_count": 9,
     "metadata": {},
     "output_type": "execute_result"
    }
   ],
   "source": [
    "412 - 1J"
   ]
  },
  {
   "cell_type": "markdown",
   "metadata": {
    "ExecuteTime": {
     "end_time": "2021-09-01T21:51:42.957499Z",
     "start_time": "2021-09-01T21:51:42.942499Z"
    }
   },
   "source": [
    "При записи больших констант можно использовать `_` для разделения разрядов:"
   ]
  },
  {
   "cell_type": "code",
   "execution_count": 10,
   "metadata": {
    "ExecuteTime": {
     "end_time": "2021-09-02T00:29:01.149452Z",
     "start_time": "2021-09-02T00:29:01.146451Z"
    }
   },
   "outputs": [
    {
     "data": {
      "text/plain": [
       "(1000000.1231563+2000j)"
      ]
     },
     "execution_count": 10,
     "metadata": {},
     "output_type": "execute_result"
    }
   ],
   "source": [
    "1_000_000.123_1563 + 2_000J"
   ]
  },
  {
   "cell_type": "markdown",
   "metadata": {
    "ExecuteTime": {
     "end_time": "2021-09-01T21:53:01.361833Z",
     "start_time": "2021-09-01T21:53:01.350833Z"
    }
   },
   "source": [
    "Также поддерживаются литералы для двоичной, восьмеричной, шестнадцатиричной систем счисления:"
   ]
  },
  {
   "cell_type": "code",
   "execution_count": 11,
   "metadata": {
    "ExecuteTime": {
     "end_time": "2021-09-02T00:29:05.243109Z",
     "start_time": "2021-09-02T00:29:05.234109Z"
    }
   },
   "outputs": [
    {
     "data": {
      "text/plain": [
       "42"
      ]
     },
     "execution_count": 11,
     "metadata": {},
     "output_type": "execute_result"
    }
   ],
   "source": [
    "0b101010"
   ]
  },
  {
   "cell_type": "code",
   "execution_count": 12,
   "metadata": {
    "ExecuteTime": {
     "end_time": "2021-09-02T00:29:05.729513Z",
     "start_time": "2021-09-02T00:29:05.723514Z"
    }
   },
   "outputs": [
    {
     "data": {
      "text/plain": [
       "666"
      ]
     },
     "execution_count": 12,
     "metadata": {},
     "output_type": "execute_result"
    }
   ],
   "source": [
    "0o1232"
   ]
  },
  {
   "cell_type": "code",
   "execution_count": 13,
   "metadata": {
    "ExecuteTime": {
     "end_time": "2021-09-02T00:29:06.210514Z",
     "start_time": "2021-09-02T00:29:06.203513Z"
    }
   },
   "outputs": [
    {
     "data": {
      "text/plain": [
       "3735928559"
      ]
     },
     "execution_count": 13,
     "metadata": {},
     "output_type": "execute_result"
    }
   ],
   "source": [
    "0xdeadbeef"
   ]
  },
  {
   "cell_type": "markdown",
   "metadata": {},
   "source": [
    "## Базовые операции с числами"
   ]
  },
  {
   "cell_type": "markdown",
   "metadata": {},
   "source": [
    "Рассмотрим базовые операции над числами."
   ]
  },
  {
   "cell_type": "markdown",
   "metadata": {},
   "source": [
    "### Сложение (+)"
   ]
  },
  {
   "cell_type": "code",
   "execution_count": 14,
   "metadata": {
    "ExecuteTime": {
     "end_time": "2021-09-02T00:29:10.452690Z",
     "start_time": "2021-09-02T00:29:10.434690Z"
    }
   },
   "outputs": [
    {
     "data": {
      "text/plain": [
       "5135777.51"
      ]
     },
     "execution_count": 14,
     "metadata": {},
     "output_type": "execute_result"
    }
   ],
   "source": [
    "5135312 + 465.51"
   ]
  },
  {
   "cell_type": "markdown",
   "metadata": {},
   "source": [
    "### Вычитание"
   ]
  },
  {
   "cell_type": "code",
   "execution_count": 15,
   "metadata": {
    "ExecuteTime": {
     "end_time": "2021-09-02T00:29:12.481777Z",
     "start_time": "2021-09-02T00:29:12.466779Z"
    }
   },
   "outputs": [
    {
     "data": {
      "text/plain": [
       "69.129"
      ]
     },
     "execution_count": 15,
     "metadata": {},
     "output_type": "execute_result"
    }
   ],
   "source": [
    "123.45 - 54.321"
   ]
  },
  {
   "cell_type": "markdown",
   "metadata": {},
   "source": [
    "### Умножение (*)"
   ]
  },
  {
   "cell_type": "code",
   "execution_count": 16,
   "metadata": {
    "ExecuteTime": {
     "end_time": "2021-09-02T00:29:13.246425Z",
     "start_time": "2021-09-02T00:29:13.234426Z"
    }
   },
   "outputs": [
    {
     "data": {
      "text/plain": [
       "-168.2"
      ]
     },
     "execution_count": 16,
     "metadata": {},
     "output_type": "execute_result"
    }
   ],
   "source": [
    "-14.5 * 11.6"
   ]
  },
  {
   "cell_type": "markdown",
   "metadata": {},
   "source": [
    "### Вещественное деление (/)"
   ]
  },
  {
   "cell_type": "code",
   "execution_count": 17,
   "metadata": {
    "ExecuteTime": {
     "end_time": "2021-09-02T00:29:13.844425Z",
     "start_time": "2021-09-02T00:29:13.835425Z"
    }
   },
   "outputs": [
    {
     "data": {
      "text/plain": [
       "1.2"
      ]
     },
     "execution_count": 17,
     "metadata": {},
     "output_type": "execute_result"
    }
   ],
   "source": [
    "6 / 5"
   ]
  },
  {
   "cell_type": "markdown",
   "metadata": {},
   "source": [
    "**Внимание**: во втором питоне деление \"/\" работает по-другому! Деление будет целочисленным, если оба операнда являются целочисленными."
   ]
  },
  {
   "cell_type": "markdown",
   "metadata": {},
   "source": [
    "### Целочисленное деление (//)"
   ]
  },
  {
   "cell_type": "code",
   "execution_count": 18,
   "metadata": {
    "ExecuteTime": {
     "end_time": "2021-09-02T00:29:24.577709Z",
     "start_time": "2021-09-02T00:29:24.570708Z"
    }
   },
   "outputs": [
    {
     "data": {
      "text/plain": [
       "1"
      ]
     },
     "execution_count": 18,
     "metadata": {},
     "output_type": "execute_result"
    }
   ],
   "source": [
    "6 // 5"
   ]
  },
  {
   "cell_type": "markdown",
   "metadata": {},
   "source": [
    "### Взятие остатка (%)"
   ]
  },
  {
   "cell_type": "code",
   "execution_count": 19,
   "metadata": {
    "ExecuteTime": {
     "end_time": "2021-09-02T00:29:25.520948Z",
     "start_time": "2021-09-02T00:29:25.514948Z"
    }
   },
   "outputs": [
    {
     "data": {
      "text/plain": [
       "1"
      ]
     },
     "execution_count": 19,
     "metadata": {},
     "output_type": "execute_result"
    }
   ],
   "source": [
    "6 % 5"
   ]
  },
  {
   "cell_type": "markdown",
   "metadata": {},
   "source": [
    "### Возведение в степень (**)"
   ]
  },
  {
   "cell_type": "code",
   "execution_count": 20,
   "metadata": {
    "ExecuteTime": {
     "end_time": "2021-09-02T00:29:27.929502Z",
     "start_time": "2021-09-02T00:29:27.914505Z"
    }
   },
   "outputs": [
    {
     "data": {
      "text/plain": [
       "25"
      ]
     },
     "execution_count": 20,
     "metadata": {},
     "output_type": "execute_result"
    }
   ],
   "source": [
    "5 ** 2"
   ]
  },
  {
   "cell_type": "markdown",
   "metadata": {},
   "source": [
    "## Побитовые операции"
   ]
  },
  {
   "cell_type": "markdown",
   "metadata": {},
   "source": [
    "### Побитовое и (&)"
   ]
  },
  {
   "cell_type": "code",
   "execution_count": 21,
   "metadata": {
    "ExecuteTime": {
     "end_time": "2021-09-02T00:29:31.487409Z",
     "start_time": "2021-09-02T00:29:31.482410Z"
    }
   },
   "outputs": [
    {
     "data": {
      "text/plain": [
       "5"
      ]
     },
     "execution_count": 21,
     "metadata": {},
     "output_type": "execute_result"
    }
   ],
   "source": [
    "0b10101 & 15"
   ]
  },
  {
   "cell_type": "markdown",
   "metadata": {},
   "source": [
    "### Побитовое или (|)"
   ]
  },
  {
   "cell_type": "code",
   "execution_count": 22,
   "metadata": {
    "ExecuteTime": {
     "end_time": "2021-09-02T00:29:32.526983Z",
     "start_time": "2021-09-02T00:29:32.522984Z"
    }
   },
   "outputs": [
    {
     "data": {
      "text/plain": [
       "47"
      ]
     },
     "execution_count": 22,
     "metadata": {},
     "output_type": "execute_result"
    }
   ],
   "source": [
    "32 | 15"
   ]
  },
  {
   "cell_type": "markdown",
   "metadata": {},
   "source": [
    "### Побитовый сдвиг (<<, >>)"
   ]
  },
  {
   "cell_type": "code",
   "execution_count": 23,
   "metadata": {
    "ExecuteTime": {
     "end_time": "2021-09-02T00:29:33.186775Z",
     "start_time": "2021-09-02T00:29:33.170775Z"
    }
   },
   "outputs": [
    {
     "data": {
      "text/plain": [
       "240"
      ]
     },
     "execution_count": 23,
     "metadata": {},
     "output_type": "execute_result"
    }
   ],
   "source": [
    "15 << 4"
   ]
  },
  {
   "cell_type": "code",
   "execution_count": 24,
   "metadata": {
    "ExecuteTime": {
     "end_time": "2021-09-02T00:29:33.639641Z",
     "start_time": "2021-09-02T00:29:33.635643Z"
    }
   },
   "outputs": [
    {
     "data": {
      "text/plain": [
       "1"
      ]
     },
     "execution_count": 24,
     "metadata": {},
     "output_type": "execute_result"
    }
   ],
   "source": [
    "16 >> 4"
   ]
  },
  {
   "cell_type": "markdown",
   "metadata": {},
   "source": [
    "### Xor (^)"
   ]
  },
  {
   "cell_type": "code",
   "execution_count": 25,
   "metadata": {
    "ExecuteTime": {
     "end_time": "2021-09-02T00:29:36.039397Z",
     "start_time": "2021-09-02T00:29:36.034398Z"
    }
   },
   "outputs": [
    {
     "data": {
      "text/plain": [
       "6"
      ]
     },
     "execution_count": 25,
     "metadata": {},
     "output_type": "execute_result"
    }
   ],
   "source": [
    "0b1100 ^ 0b1010"
   ]
  },
  {
   "cell_type": "markdown",
   "metadata": {},
   "source": [
    "### Побитовая инверсия (~)"
   ]
  },
  {
   "cell_type": "code",
   "execution_count": 26,
   "metadata": {
    "ExecuteTime": {
     "end_time": "2021-09-02T00:29:36.991368Z",
     "start_time": "2021-09-02T00:29:36.978372Z"
    }
   },
   "outputs": [
    {
     "data": {
      "text/plain": [
       "0"
      ]
     },
     "execution_count": 26,
     "metadata": {},
     "output_type": "execute_result"
    }
   ],
   "source": [
    "~-1"
   ]
  },
  {
   "cell_type": "markdown",
   "metadata": {},
   "source": [
    "## Выражения присваивания"
   ]
  },
  {
   "cell_type": "markdown",
   "metadata": {},
   "source": [
    "Python это язык с **динамической типизацией**, то есть тип есть только у самих объектов, а не у переменных, которые ссылаются на эти объекты. Поэтому при выполнении присваивания объекта переменной (bind/rebind) тип переменной указывать не требуется."
   ]
  },
  {
   "cell_type": "markdown",
   "metadata": {},
   "source": [
    "Присванивания в Python выполняются с помощью оператора =:"
   ]
  },
  {
   "cell_type": "code",
   "execution_count": 27,
   "metadata": {
    "ExecuteTime": {
     "end_time": "2021-09-02T00:30:00.379038Z",
     "start_time": "2021-09-02T00:30:00.362039Z"
    }
   },
   "outputs": [],
   "source": [
    "x = 1"
   ]
  },
  {
   "cell_type": "markdown",
   "metadata": {},
   "source": [
    "Как и в C, в Python можно делать \"операции на месте\" (`+=`, `-=`, `*=`, `@=`, `/=`, `//=`, `%=`, `**=`, `>>=`, `<<=`, `&=`, `^=`, `|=`):"
   ]
  },
  {
   "cell_type": "code",
   "execution_count": 28,
   "metadata": {
    "ExecuteTime": {
     "end_time": "2021-09-02T00:30:03.255996Z",
     "start_time": "2021-09-02T00:30:03.237996Z"
    }
   },
   "outputs": [
    {
     "data": {
      "text/plain": [
       "3"
      ]
     },
     "execution_count": 28,
     "metadata": {},
     "output_type": "execute_result"
    }
   ],
   "source": [
    "x = 1\n",
    "x += 2\n",
    "x"
   ]
  },
  {
   "cell_type": "code",
   "execution_count": 29,
   "metadata": {
    "ExecuteTime": {
     "end_time": "2021-09-02T00:30:04.945996Z",
     "start_time": "2021-09-02T00:30:04.930997Z"
    }
   },
   "outputs": [
    {
     "data": {
      "text/plain": [
       "1.6666666666666667"
      ]
     },
     "execution_count": 29,
     "metadata": {},
     "output_type": "execute_result"
    }
   ],
   "source": [
    "y = 5\n",
    "y /= x\n",
    "y"
   ]
  },
  {
   "cell_type": "markdown",
   "metadata": {},
   "source": [
    "У каждой переменной есть фиксированный тип (**строгая типизация**). Определение типа переменной:"
   ]
  },
  {
   "cell_type": "code",
   "execution_count": 30,
   "metadata": {
    "ExecuteTime": {
     "end_time": "2021-09-02T00:30:07.256218Z",
     "start_time": "2021-09-02T00:30:07.250220Z"
    }
   },
   "outputs": [
    {
     "data": {
      "text/plain": [
       "int"
      ]
     },
     "execution_count": 30,
     "metadata": {},
     "output_type": "execute_result"
    }
   ],
   "source": [
    "type(x)"
   ]
  },
  {
   "cell_type": "markdown",
   "metadata": {},
   "source": [
    "По любой функции/методу можно получить подробную справку в jupyter, выполнив команду, начинающуюся с `?`:"
   ]
  },
  {
   "cell_type": "code",
   "execution_count": 31,
   "metadata": {
    "ExecuteTime": {
     "end_time": "2021-09-02T00:30:11.010534Z",
     "start_time": "2021-09-02T00:30:10.969534Z"
    }
   },
   "outputs": [],
   "source": [
    "?type"
   ]
  },
  {
   "cell_type": "markdown",
   "metadata": {},
   "source": [
    "Быструю справку можно получить, если щёлкнуть по нужной функции и нажать `shift+tab`."
   ]
  },
  {
   "cell_type": "markdown",
   "metadata": {},
   "source": [
    "## Логические операции"
   ]
  },
  {
   "cell_type": "markdown",
   "metadata": {},
   "source": [
    "Для выражения результата логических операций используется тип bool — поддтип целых чисел с двумя возможными значениями `True`, `False`. Внутри арифметических операций данные значения ведут себя как `1` и `0` соответственно."
   ]
  },
  {
   "cell_type": "markdown",
   "metadata": {},
   "source": [
    "### Равно, не равно (==, !=)"
   ]
  },
  {
   "cell_type": "code",
   "execution_count": 32,
   "metadata": {
    "ExecuteTime": {
     "end_time": "2021-09-02T00:30:15.154721Z",
     "start_time": "2021-09-02T00:30:15.145721Z"
    }
   },
   "outputs": [
    {
     "data": {
      "text/plain": [
       "False"
      ]
     },
     "execution_count": 32,
     "metadata": {},
     "output_type": "execute_result"
    }
   ],
   "source": [
    "1 == 2"
   ]
  },
  {
   "cell_type": "code",
   "execution_count": 33,
   "metadata": {
    "ExecuteTime": {
     "end_time": "2021-09-02T00:30:15.408719Z",
     "start_time": "2021-09-02T00:30:15.402721Z"
    }
   },
   "outputs": [
    {
     "data": {
      "text/plain": [
       "True"
      ]
     },
     "execution_count": 33,
     "metadata": {},
     "output_type": "execute_result"
    }
   ],
   "source": [
    "1.0 != 2.0"
   ]
  },
  {
   "cell_type": "markdown",
   "metadata": {},
   "source": [
    "### Меньше, меньше или равно (<, <=)"
   ]
  },
  {
   "cell_type": "code",
   "execution_count": 34,
   "metadata": {
    "ExecuteTime": {
     "end_time": "2021-09-02T00:30:27.353232Z",
     "start_time": "2021-09-02T00:30:27.346232Z"
    }
   },
   "outputs": [
    {
     "data": {
      "text/plain": [
       "True"
      ]
     },
     "execution_count": 34,
     "metadata": {},
     "output_type": "execute_result"
    }
   ],
   "source": [
    "1 <= 1"
   ]
  },
  {
   "cell_type": "code",
   "execution_count": 35,
   "metadata": {
    "ExecuteTime": {
     "end_time": "2021-09-02T00:30:28.054151Z",
     "start_time": "2021-09-02T00:30:28.051152Z"
    }
   },
   "outputs": [
    {
     "data": {
      "text/plain": [
       "False"
      ]
     },
     "execution_count": 35,
     "metadata": {},
     "output_type": "execute_result"
    }
   ],
   "source": [
    "1 < 1"
   ]
  },
  {
   "cell_type": "markdown",
   "metadata": {},
   "source": [
    "### Больше, больше или равно (>, >=)"
   ]
  },
  {
   "cell_type": "code",
   "execution_count": 36,
   "metadata": {
    "ExecuteTime": {
     "end_time": "2021-09-02T00:30:29.210498Z",
     "start_time": "2021-09-02T00:30:29.202498Z"
    }
   },
   "outputs": [
    {
     "data": {
      "text/plain": [
       "True"
      ]
     },
     "execution_count": 36,
     "metadata": {},
     "output_type": "execute_result"
    }
   ],
   "source": [
    "5 > 3.14"
   ]
  },
  {
   "cell_type": "code",
   "execution_count": 37,
   "metadata": {
    "ExecuteTime": {
     "end_time": "2021-09-02T00:30:29.683497Z",
     "start_time": "2021-09-02T00:30:29.666500Z"
    }
   },
   "outputs": [
    {
     "data": {
      "text/plain": [
       "False"
      ]
     },
     "execution_count": 37,
     "metadata": {},
     "output_type": "execute_result"
    }
   ],
   "source": [
    "5 >= 123"
   ]
  },
  {
   "cell_type": "markdown",
   "metadata": {},
   "source": [
    "### Операции над булевыми типами (or, and, not)"
   ]
  },
  {
   "cell_type": "markdown",
   "metadata": {},
   "source": [
    "Так же как и в языке С/C++ эти операции поддерживают \"ленивое вычисление\""
   ]
  },
  {
   "cell_type": "code",
   "execution_count": 38,
   "metadata": {
    "ExecuteTime": {
     "end_time": "2021-09-02T00:30:35.310820Z",
     "start_time": "2021-09-02T00:30:35.305822Z"
    }
   },
   "outputs": [],
   "source": [
    "x = 2 == 3\n",
    "y = 4 < 10"
   ]
  },
  {
   "cell_type": "code",
   "execution_count": 39,
   "metadata": {
    "ExecuteTime": {
     "end_time": "2021-09-02T00:30:35.924894Z",
     "start_time": "2021-09-02T00:30:35.906897Z"
    }
   },
   "outputs": [
    {
     "data": {
      "text/plain": [
       "True"
      ]
     },
     "execution_count": 39,
     "metadata": {},
     "output_type": "execute_result"
    }
   ],
   "source": [
    "x or y"
   ]
  },
  {
   "cell_type": "code",
   "execution_count": 40,
   "metadata": {
    "ExecuteTime": {
     "end_time": "2021-09-02T00:30:37.605837Z",
     "start_time": "2021-09-02T00:30:37.602837Z"
    }
   },
   "outputs": [
    {
     "data": {
      "text/plain": [
       "False"
      ]
     },
     "execution_count": 40,
     "metadata": {},
     "output_type": "execute_result"
    }
   ],
   "source": [
    "x and y"
   ]
  },
  {
   "cell_type": "code",
   "execution_count": 41,
   "metadata": {
    "ExecuteTime": {
     "end_time": "2021-09-02T00:30:38.437516Z",
     "start_time": "2021-09-02T00:30:38.426516Z"
    }
   },
   "outputs": [
    {
     "data": {
      "text/plain": [
       "True"
      ]
     },
     "execution_count": 41,
     "metadata": {},
     "output_type": "execute_result"
    }
   ],
   "source": [
    "not x or y"
   ]
  },
  {
   "cell_type": "markdown",
   "metadata": {},
   "source": [
    "На самом деле логика работы `and`, `or` чуть сложнее, при применении их к небулевым переменным. Про это можно почитать [здесь](https://linux.die.net/diveintopython/html/power_of_introspection/and_or.html)"
   ]
  },
  {
   "cell_type": "markdown",
   "metadata": {},
   "source": [
    "В Python есть возможность производить двойные сравнения (и не только двойные, но произвольной длины):"
   ]
  },
  {
   "cell_type": "code",
   "execution_count": 42,
   "metadata": {
    "ExecuteTime": {
     "end_time": "2021-09-02T00:30:51.936222Z",
     "start_time": "2021-09-02T00:30:51.922226Z"
    }
   },
   "outputs": [
    {
     "data": {
      "text/plain": [
       "True"
      ]
     },
     "execution_count": 42,
     "metadata": {},
     "output_type": "execute_result"
    }
   ],
   "source": [
    "# эквивалентно (1 < 2) and (2 < 3)\n",
    "1 < 2 < 3 "
   ]
  },
  {
   "cell_type": "code",
   "execution_count": 43,
   "metadata": {
    "ExecuteTime": {
     "end_time": "2021-09-02T00:30:55.047942Z",
     "start_time": "2021-09-02T00:30:55.042943Z"
    }
   },
   "outputs": [
    {
     "data": {
      "text/plain": [
       "True"
      ]
     },
     "execution_count": 43,
     "metadata": {},
     "output_type": "execute_result"
    }
   ],
   "source": [
    "# эквивалентно (1 != 2) and (2 < 3) and (3 <= 4 - 1) and (4 - 1 > 0)\n",
    "1 != 2 < 3 <= 4 - 1 > 0"
   ]
  },
  {
   "cell_type": "markdown",
   "metadata": {},
   "source": [
    "## Вывод на экран"
   ]
  },
  {
   "cell_type": "markdown",
   "metadata": {},
   "source": [
    "Для вывода на экран можно использовать функцию print. У print есть различные дополнительные аргументы, позволяющие форматировать вывод.\n",
    "\n",
    "**Внимание**: во втором питоне print — оператор, а не функция"
   ]
  },
  {
   "cell_type": "code",
   "execution_count": 44,
   "metadata": {
    "ExecuteTime": {
     "end_time": "2021-09-02T00:31:01.393495Z",
     "start_time": "2021-09-02T00:31:01.386496Z"
    }
   },
   "outputs": [
    {
     "name": "stdout",
     "output_type": "stream",
     "text": [
      "2\n",
      "3 ! 4\n",
      "4, 8, 1.0\n"
     ]
    },
    {
     "data": {
      "text/plain": [
       "4"
      ]
     },
     "execution_count": 44,
     "metadata": {},
     "output_type": "execute_result"
    }
   ],
   "source": [
    "x = 1\n",
    "x\n",
    "x = 2\n",
    "print(x)\n",
    "x = 3\n",
    "x\n",
    "print(x, end=\" ! \")\n",
    "x = 4\n",
    "print(x)\n",
    "print(x, x + x, 4 / x, sep=', ')\n",
    "x"
   ]
  },
  {
   "cell_type": "markdown",
   "metadata": {},
   "source": [
    "<font color='red'>**Задача 1.** Что будет выведено после следующих команд?</font>\n",
    "    \n",
    "    1. 5. & 2\n",
    "    2. 6.2 % 5\n",
    "    3. 2 / 2 ** 2\n",
    "    4. 1 == 2 < 2"
   ]
  },
  {
   "cell_type": "code",
   "execution_count": 45,
   "metadata": {
    "ExecuteTime": {
     "end_time": "2021-09-02T00:31:04.120681Z",
     "start_time": "2021-09-02T00:31:04.105681Z"
    }
   },
   "outputs": [],
   "source": [
    "# your answer"
   ]
  },
  {
   "cell_type": "markdown",
   "metadata": {},
   "source": [
    "## Базовые структуры данных: списки и строки"
   ]
  },
  {
   "cell_type": "markdown",
   "metadata": {},
   "source": [
    "Все объекты в Python описываются тремя параметрами:\n",
    "1. Идентификатор объекта, можно упрощённо трактовать как адрес объекта в памяти\n",
    "2. Тип объекта -- задаёт набор операций, которые применимы к данному объекту \n",
    "3. Значение объекта\n",
    "\n",
    "Первые 2 параметра всегда неизменны для одного объекта. \n",
    "\n",
    "Что касается значения — то все объекты в Python, включая встроенные типы можно разделить на два типа: изменяемые и неизменяемые."
   ]
  },
  {
   "cell_type": "markdown",
   "metadata": {},
   "source": [
    "Изменяемые:\n",
    "* список (`list`)\n",
    "* словарь (`dict`)\n",
    "* множество (`set`)\n",
    "\n",
    "Неизменяемые:\n",
    "* числовые типы\n",
    "* строка (`str`)\n",
    "* кортеж (`tuple`)\n",
    "\n",
    "Цель этого раздела — познакомиться со всеми базовыми структурами данных."
   ]
  },
  {
   "cell_type": "markdown",
   "metadata": {},
   "source": [
    "### Строки"
   ]
  },
  {
   "cell_type": "markdown",
   "metadata": {},
   "source": [
    "Строковые константы можно задавать и с помощью одинарных кавычек, и с помощью двойных, и с помощью тройных:"
   ]
  },
  {
   "cell_type": "code",
   "execution_count": 46,
   "metadata": {
    "ExecuteTime": {
     "end_time": "2021-09-02T00:32:21.626254Z",
     "start_time": "2021-09-02T00:32:21.609257Z"
    }
   },
   "outputs": [
    {
     "data": {
      "text/plain": [
       "True"
      ]
     },
     "execution_count": 46,
     "metadata": {},
     "output_type": "execute_result"
    }
   ],
   "source": [
    "s1 = 'abc'\n",
    "s2 = \"abc\"\n",
    "s3 = '''abc'''\n",
    "s4 = \"\"\"abc\"\"\"\n",
    "\n",
    "s1 == s2 == s3 == s4"
   ]
  },
  {
   "cell_type": "code",
   "execution_count": 47,
   "metadata": {
    "ExecuteTime": {
     "end_time": "2021-09-02T00:32:24.208713Z",
     "start_time": "2021-09-02T00:32:24.193713Z"
    }
   },
   "outputs": [
    {
     "name": "stdout",
     "output_type": "stream",
     "text": [
      "\n",
      "hello\n",
      "\n"
     ]
    }
   ],
   "source": [
    "s5 = '''\n",
    "hello\n",
    "'''\n",
    "print(s5)"
   ]
  },
  {
   "cell_type": "markdown",
   "metadata": {},
   "source": [
    "#### Сложение строк (+) — конкатенация строк"
   ]
  },
  {
   "cell_type": "code",
   "execution_count": 48,
   "metadata": {
    "ExecuteTime": {
     "end_time": "2021-09-02T00:32:26.255441Z",
     "start_time": "2021-09-02T00:32:26.241444Z"
    }
   },
   "outputs": [
    {
     "data": {
      "text/plain": [
       "'abcdef'"
      ]
     },
     "execution_count": 48,
     "metadata": {},
     "output_type": "execute_result"
    }
   ],
   "source": [
    "\"abc\" + 'def'"
   ]
  },
  {
   "cell_type": "markdown",
   "metadata": {
    "ExecuteTime": {
     "end_time": "2021-09-01T22:58:20.613920Z",
     "start_time": "2021-09-01T22:58:20.605922Z"
    }
   },
   "source": [
    "Строковые литералы записанные через пробел автоматически конкатенируются:"
   ]
  },
  {
   "cell_type": "code",
   "execution_count": 49,
   "metadata": {
    "ExecuteTime": {
     "end_time": "2021-09-02T00:32:28.555017Z",
     "start_time": "2021-09-02T00:32:28.537020Z"
    }
   },
   "outputs": [
    {
     "data": {
      "text/plain": [
       "'abcdef'"
      ]
     },
     "execution_count": 49,
     "metadata": {},
     "output_type": "execute_result"
    }
   ],
   "source": [
    "\"abc\" 'def'"
   ]
  },
  {
   "cell_type": "markdown",
   "metadata": {
    "ExecuteTime": {
     "end_time": "2021-09-01T22:57:52.269190Z",
     "start_time": "2021-09-01T22:57:52.262192Z"
    }
   },
   "source": [
    "#### Умножение строки на целое число n (*) — повтороение строки n раз"
   ]
  },
  {
   "cell_type": "code",
   "execution_count": 50,
   "metadata": {
    "ExecuteTime": {
     "end_time": "2021-09-02T00:32:32.779978Z",
     "start_time": "2021-09-02T00:32:32.768981Z"
    }
   },
   "outputs": [
    {
     "data": {
      "text/plain": [
       "'abcabcabc'"
      ]
     },
     "execution_count": 50,
     "metadata": {},
     "output_type": "execute_result"
    }
   ],
   "source": [
    "\"abc\" * 3"
   ]
  },
  {
   "cell_type": "markdown",
   "metadata": {},
   "source": [
    "Функция `len` — получить длину строки:"
   ]
  },
  {
   "cell_type": "code",
   "execution_count": 51,
   "metadata": {
    "ExecuteTime": {
     "end_time": "2021-09-02T00:32:33.716957Z",
     "start_time": "2021-09-02T00:32:33.712957Z"
    }
   },
   "outputs": [
    {
     "data": {
      "text/plain": [
       "3"
      ]
     },
     "execution_count": 51,
     "metadata": {},
     "output_type": "execute_result"
    }
   ],
   "source": [
    "len(\"abc\")"
   ]
  },
  {
   "cell_type": "markdown",
   "metadata": {},
   "source": [
    "У типа str большое количество встроенных строковых методов:"
   ]
  },
  {
   "cell_type": "markdown",
   "metadata": {},
   "source": [
    "#### .find — найти подстроку"
   ]
  },
  {
   "cell_type": "code",
   "execution_count": 52,
   "metadata": {
    "ExecuteTime": {
     "end_time": "2021-09-02T00:32:35.470491Z",
     "start_time": "2021-09-02T00:32:35.464492Z"
    }
   },
   "outputs": [
    {
     "data": {
      "text/plain": [
       "1"
      ]
     },
     "execution_count": 52,
     "metadata": {},
     "output_type": "execute_result"
    }
   ],
   "source": [
    "s1.find('b')"
   ]
  },
  {
   "cell_type": "code",
   "execution_count": 53,
   "metadata": {
    "ExecuteTime": {
     "end_time": "2021-09-02T00:32:35.928939Z",
     "start_time": "2021-09-02T00:32:35.913940Z"
    }
   },
   "outputs": [
    {
     "data": {
      "text/plain": [
       "True"
      ]
     },
     "execution_count": 53,
     "metadata": {},
     "output_type": "execute_result"
    }
   ],
   "source": [
    "'ada' in 'abracadabra'"
   ]
  },
  {
   "cell_type": "markdown",
   "metadata": {},
   "source": [
    "#### .upper — перевести строку в верхний регистр"
   ]
  },
  {
   "cell_type": "code",
   "execution_count": 54,
   "metadata": {
    "ExecuteTime": {
     "end_time": "2021-09-02T00:32:37.275061Z",
     "start_time": "2021-09-02T00:32:37.265063Z"
    }
   },
   "outputs": [
    {
     "data": {
      "text/plain": [
       "'ABC'"
      ]
     },
     "execution_count": 54,
     "metadata": {},
     "output_type": "execute_result"
    }
   ],
   "source": [
    "s1.upper()"
   ]
  },
  {
   "cell_type": "markdown",
   "metadata": {},
   "source": [
    "#### .lower — перевести строку в нижний регистр"
   ]
  },
  {
   "cell_type": "code",
   "execution_count": 55,
   "metadata": {
    "ExecuteTime": {
     "end_time": "2021-09-02T00:32:38.694039Z",
     "start_time": "2021-09-02T00:32:38.689040Z"
    }
   },
   "outputs": [
    {
     "data": {
      "text/plain": [
       "'abc'"
      ]
     },
     "execution_count": 55,
     "metadata": {},
     "output_type": "execute_result"
    }
   ],
   "source": [
    "s1.upper().lower()"
   ]
  },
  {
   "cell_type": "markdown",
   "metadata": {},
   "source": [
    "#### .strip — обрезать символы по краям  (по умолчанию пробельные)"
   ]
  },
  {
   "cell_type": "code",
   "execution_count": 56,
   "metadata": {
    "ExecuteTime": {
     "end_time": "2021-09-02T00:32:39.982784Z",
     "start_time": "2021-09-02T00:32:39.976784Z"
    }
   },
   "outputs": [
    {
     "data": {
      "text/plain": [
       "'a'"
      ]
     },
     "execution_count": 56,
     "metadata": {},
     "output_type": "execute_result"
    }
   ],
   "source": [
    "\"a   \".strip()"
   ]
  },
  {
   "cell_type": "markdown",
   "metadata": {},
   "source": [
    "#### Индексация строк"
   ]
  },
  {
   "cell_type": "markdown",
   "metadata": {},
   "source": [
    "Индексироваться по строкам можно с помощью квадратных скобок:"
   ]
  },
  {
   "cell_type": "code",
   "execution_count": 57,
   "metadata": {
    "ExecuteTime": {
     "end_time": "2021-09-02T00:32:41.650902Z",
     "start_time": "2021-09-02T00:32:41.632904Z"
    }
   },
   "outputs": [
    {
     "data": {
      "text/plain": [
       "'a'"
      ]
     },
     "execution_count": 57,
     "metadata": {},
     "output_type": "execute_result"
    }
   ],
   "source": [
    "s = \"abc\"\n",
    "s[0]"
   ]
  },
  {
   "cell_type": "markdown",
   "metadata": {},
   "source": [
    "При этом, в Python нет отдельного типа для одного символа — любая подстрока строки — строка:"
   ]
  },
  {
   "cell_type": "code",
   "execution_count": 58,
   "metadata": {
    "ExecuteTime": {
     "end_time": "2021-09-02T00:32:43.567134Z",
     "start_time": "2021-09-02T00:32:43.561135Z"
    }
   },
   "outputs": [
    {
     "data": {
      "text/plain": [
       "str"
      ]
     },
     "execution_count": 58,
     "metadata": {},
     "output_type": "execute_result"
    }
   ],
   "source": [
    "type('abc')"
   ]
  },
  {
   "cell_type": "code",
   "execution_count": 59,
   "metadata": {
    "ExecuteTime": {
     "end_time": "2021-09-02T00:32:45.927868Z",
     "start_time": "2021-09-02T00:32:45.921869Z"
    }
   },
   "outputs": [
    {
     "data": {
      "text/plain": [
       "str"
      ]
     },
     "execution_count": 59,
     "metadata": {},
     "output_type": "execute_result"
    }
   ],
   "source": [
    "type('abc'[1])"
   ]
  },
  {
   "cell_type": "markdown",
   "metadata": {},
   "source": [
    "**Внимание**: строка — неизменяемый объект!"
   ]
  },
  {
   "cell_type": "code",
   "execution_count": 60,
   "metadata": {
    "ExecuteTime": {
     "end_time": "2021-09-02T00:32:47.110278Z",
     "start_time": "2021-09-02T00:32:47.024280Z"
    }
   },
   "outputs": [
    {
     "ename": "TypeError",
     "evalue": "'str' object does not support item assignment",
     "output_type": "error",
     "traceback": [
      "\u001b[1;31m---------------------------------------------------------------------------\u001b[0m",
      "\u001b[1;31mTypeError\u001b[0m                                 Traceback (most recent call last)",
      "\u001b[1;32m~\\AppData\\Local\\Temp/ipykernel_422812/4055836882.py\u001b[0m in \u001b[0;36m<module>\u001b[1;34m\u001b[0m\n\u001b[1;32m----> 1\u001b[1;33m \u001b[0ms\u001b[0m\u001b[1;33m[\u001b[0m\u001b[1;36m0\u001b[0m\u001b[1;33m]\u001b[0m \u001b[1;33m=\u001b[0m \u001b[1;34m'b'\u001b[0m\u001b[1;33m\u001b[0m\u001b[1;33m\u001b[0m\u001b[0m\n\u001b[0m",
      "\u001b[1;31mTypeError\u001b[0m: 'str' object does not support item assignment"
     ]
    }
   ],
   "source": [
    "s[0] = 'b'"
   ]
  },
  {
   "cell_type": "markdown",
   "metadata": {},
   "source": [
    "Из этого следует важная особенность — добавление символа к строке может вызвать её полное копирование, что означает $\\mathcal{O}(n)$ операций на добавление символа к строке:"
   ]
  },
  {
   "cell_type": "code",
   "execution_count": 61,
   "metadata": {
    "ExecuteTime": {
     "end_time": "2021-09-02T00:33:04.535574Z",
     "start_time": "2021-09-02T00:33:04.529574Z"
    }
   },
   "outputs": [
    {
     "data": {
      "text/plain": [
       "'abcde'"
      ]
     },
     "execution_count": 61,
     "metadata": {},
     "output_type": "execute_result"
    }
   ],
   "source": [
    "s = 'abcde'\n",
    "s"
   ]
  },
  {
   "cell_type": "code",
   "execution_count": 62,
   "metadata": {
    "ExecuteTime": {
     "end_time": "2021-09-02T00:33:05.242816Z",
     "start_time": "2021-09-02T00:33:05.233816Z"
    }
   },
   "outputs": [
    {
     "data": {
      "text/plain": [
       "2150820188848"
      ]
     },
     "execution_count": 62,
     "metadata": {},
     "output_type": "execute_result"
    }
   ],
   "source": [
    "id(s)"
   ]
  },
  {
   "cell_type": "code",
   "execution_count": 63,
   "metadata": {
    "ExecuteTime": {
     "end_time": "2021-09-02T00:33:05.748859Z",
     "start_time": "2021-09-02T00:33:05.737860Z"
    }
   },
   "outputs": [
    {
     "data": {
      "text/plain": [
       "'abcdef'"
      ]
     },
     "execution_count": 63,
     "metadata": {},
     "output_type": "execute_result"
    }
   ],
   "source": [
    "s += 'f'\n",
    "s"
   ]
  },
  {
   "cell_type": "code",
   "execution_count": 64,
   "metadata": {
    "ExecuteTime": {
     "end_time": "2021-09-02T00:33:06.065104Z",
     "start_time": "2021-09-02T00:33:06.058106Z"
    }
   },
   "outputs": [
    {
     "data": {
      "text/plain": [
       "2150820181296"
      ]
     },
     "execution_count": 64,
     "metadata": {},
     "output_type": "execute_result"
    }
   ],
   "source": [
    "id(s)"
   ]
  },
  {
   "cell_type": "markdown",
   "metadata": {},
   "source": [
    "#### Продвинутая индексация. Slicing"
   ]
  },
  {
   "cell_type": "markdown",
   "metadata": {},
   "source": [
    "Python поддерживает выделение подвыборки из списка элементов с помощью следующего синтаксиса:\n",
    "    \n",
    "`s[start:finish:step]`:\n",
    "* `start` — начало среза\n",
    "* `finish` — конец среза (**не входит в срез**)\n",
    "* `step` — шаг"
   ]
  },
  {
   "cell_type": "code",
   "execution_count": 65,
   "metadata": {
    "ExecuteTime": {
     "end_time": "2021-09-02T00:33:12.631705Z",
     "start_time": "2021-09-02T00:33:12.624705Z"
    }
   },
   "outputs": [],
   "source": [
    "s = '0123456789'"
   ]
  },
  {
   "cell_type": "markdown",
   "metadata": {},
   "source": [
    "Срез равный всей строке:"
   ]
  },
  {
   "cell_type": "code",
   "execution_count": 66,
   "metadata": {
    "ExecuteTime": {
     "end_time": "2021-09-02T00:33:13.786983Z",
     "start_time": "2021-09-02T00:33:13.775985Z"
    }
   },
   "outputs": [
    {
     "data": {
      "text/plain": [
       "'01234'"
      ]
     },
     "execution_count": 66,
     "metadata": {},
     "output_type": "execute_result"
    }
   ],
   "source": [
    "s[:5:]"
   ]
  },
  {
   "cell_type": "markdown",
   "metadata": {},
   "source": [
    "Срез равный одному элементу:"
   ]
  },
  {
   "cell_type": "code",
   "execution_count": 67,
   "metadata": {
    "ExecuteTime": {
     "end_time": "2021-09-02T00:33:14.326983Z",
     "start_time": "2021-09-02T00:33:14.320985Z"
    }
   },
   "outputs": [
    {
     "data": {
      "text/plain": [
       "'5'"
      ]
     },
     "execution_count": 67,
     "metadata": {},
     "output_type": "execute_result"
    }
   ],
   "source": [
    "s[5:6:1]"
   ]
  },
  {
   "cell_type": "markdown",
   "metadata": {},
   "source": [
    "Ещё один срез:"
   ]
  },
  {
   "cell_type": "code",
   "execution_count": 68,
   "metadata": {
    "ExecuteTime": {
     "end_time": "2021-09-02T00:33:15.058054Z",
     "start_time": "2021-09-02T00:33:15.041054Z"
    }
   },
   "outputs": [
    {
     "data": {
      "text/plain": [
       "'246'"
      ]
     },
     "execution_count": 68,
     "metadata": {},
     "output_type": "execute_result"
    }
   ],
   "source": [
    "s[2:7:2]"
   ]
  },
  {
   "cell_type": "markdown",
   "metadata": {},
   "source": [
    "`start`, `finish`, `step` могут иметь отрицательные значения\n",
    "\n",
    "* $\\text{start} == -a$ $\\; \\Longleftrightarrow \\;$ $\\text{start} == \\text{len}(s) - a$\n",
    "* $\\text{finish} == -a$ $\\; \\Longleftrightarrow \\;$ $\\text{finish} == \\text{len}(s) - a$\n",
    "* $\\text{step} == -a$ $\\; \\Longleftrightarrow \\;$ проходить строку в обратном направлении"
   ]
  },
  {
   "cell_type": "code",
   "execution_count": 69,
   "metadata": {
    "ExecuteTime": {
     "end_time": "2021-09-02T00:33:20.679221Z",
     "start_time": "2021-09-02T00:33:20.665222Z"
    }
   },
   "outputs": [
    {
     "data": {
      "text/plain": [
       "'765432'"
      ]
     },
     "execution_count": 69,
     "metadata": {},
     "output_type": "execute_result"
    }
   ],
   "source": [
    "s[7:1:-1]"
   ]
  },
  {
   "cell_type": "markdown",
   "metadata": {
    "ExecuteTime": {
     "end_time": "2021-09-01T23:27:54.669329Z",
     "start_time": "2021-09-01T23:27:54.656331Z"
    }
   },
   "source": [
    "Если `step`не указан, то можно опускать лишнее `:`:"
   ]
  },
  {
   "cell_type": "code",
   "execution_count": 70,
   "metadata": {
    "ExecuteTime": {
     "end_time": "2021-09-02T00:33:22.021500Z",
     "start_time": "2021-09-02T00:33:22.008500Z"
    }
   },
   "outputs": [
    {
     "data": {
      "text/plain": [
       "'1234'"
      ]
     },
     "execution_count": 70,
     "metadata": {},
     "output_type": "execute_result"
    }
   ],
   "source": [
    "s[1:5]"
   ]
  },
  {
   "cell_type": "markdown",
   "metadata": {},
   "source": [
    "<font color='red'>**Задача 2.** Что будет выведено после следующих команд:</font>\n",
    "\n",
    "    1. s[7:-1:-1]\n",
    "    2. s[:100:]\n",
    "    3. s[-1:8:-2]\n",
    "    4. s[4:-7]\n",
    "    5. s[-20::5]"
   ]
  },
  {
   "cell_type": "code",
   "execution_count": 71,
   "metadata": {
    "ExecuteTime": {
     "end_time": "2021-09-02T00:33:27.479535Z",
     "start_time": "2021-09-02T00:33:27.472538Z"
    }
   },
   "outputs": [],
   "source": [
    "s = '0123456789'\n",
    "\n",
    "# your answer here"
   ]
  },
  {
   "cell_type": "markdown",
   "metadata": {},
   "source": [
    "<font color='red'>**Задача 3.** Получите для строки `s` строку `result`, состоящую из элементов исходной строки, стоящих на чётных местах, в обратном порядке (включая A[0]), после которых идут элементы строки, стоящие на нечётных местах. Использовать циклы запрещено!</font>"
   ]
  },
  {
   "cell_type": "code",
   "execution_count": 72,
   "metadata": {
    "ExecuteTime": {
     "end_time": "2021-09-02T00:33:29.155544Z",
     "start_time": "2021-09-02T00:33:29.144546Z"
    }
   },
   "outputs": [],
   "source": [
    "s = 'qwertyuiopasdfghjkl'\n",
    "\n",
    "# your answer here\n",
    "# result = ..."
   ]
  },
  {
   "cell_type": "markdown",
   "metadata": {},
   "source": [
    "Проверьте себя:"
   ]
  },
  {
   "cell_type": "code",
   "execution_count": null,
   "metadata": {
    "ExecuteTime": {
     "end_time": "2021-09-01T23:32:24.221169Z",
     "start_time": "2021-09-01T23:32:24.206170Z"
    }
   },
   "outputs": [],
   "source": [
    "assert result == 'ljgdaouteqwryipsfhk'"
   ]
  },
  {
   "cell_type": "markdown",
   "metadata": {},
   "source": [
    "#### Format строки, Raw строки"
   ]
  },
  {
   "cell_type": "markdown",
   "metadata": {},
   "source": [
    "Python поддерживает форматированный вывод с помощью метода `.format`:"
   ]
  },
  {
   "cell_type": "code",
   "execution_count": 73,
   "metadata": {
    "ExecuteTime": {
     "end_time": "2021-09-02T00:33:33.397392Z",
     "start_time": "2021-09-02T00:33:33.392395Z"
    }
   },
   "outputs": [
    {
     "data": {
      "text/plain": [
       "'__abc__'"
      ]
     },
     "execution_count": 73,
     "metadata": {},
     "output_type": "execute_result"
    }
   ],
   "source": [
    "'__{}__'.format('abc')"
   ]
  },
  {
   "cell_type": "markdown",
   "metadata": {
    "ExecuteTime": {
     "end_time": "2021-09-01T23:34:47.929564Z",
     "start_time": "2021-09-01T23:34:47.917565Z"
    }
   },
   "source": [
    "При форматировании можно указать номер аргумента и его тип:"
   ]
  },
  {
   "cell_type": "code",
   "execution_count": 74,
   "metadata": {
    "ExecuteTime": {
     "end_time": "2021-09-02T00:33:34.465357Z",
     "start_time": "2021-09-02T00:33:34.456357Z"
    }
   },
   "outputs": [
    {
     "data": {
      "text/plain": [
       "'__12__12.000__3.1400e+00__afv'"
      ]
     },
     "execution_count": 74,
     "metadata": {},
     "output_type": "execute_result"
    }
   ],
   "source": [
    "'__{0:d}__{0:.3f}__{1:.4e}__{2}'.format(12, 3.14, 'afv')"
   ]
  },
  {
   "cell_type": "markdown",
   "metadata": {},
   "source": [
    "При этом с помощью особой форматной строки можно производить подстановку 'на лету':"
   ]
  },
  {
   "cell_type": "code",
   "execution_count": 75,
   "metadata": {
    "ExecuteTime": {
     "end_time": "2021-09-02T00:33:35.218358Z",
     "start_time": "2021-09-02T00:33:35.200357Z"
    }
   },
   "outputs": [
    {
     "data": {
      "text/plain": [
       "'12.54__hello__21'"
      ]
     },
     "execution_count": 75,
     "metadata": {},
     "output_type": "execute_result"
    }
   ],
   "source": [
    "a = 12.54\n",
    "b = 'hello'\n",
    "\n",
    "f'{a}__{b}__{10 + 11}'"
   ]
  },
  {
   "cell_type": "markdown",
   "metadata": {},
   "source": [
    "В строках можно использовать особые символы (escaped symbols), например, для переноса строки или особых Unicode символов:"
   ]
  },
  {
   "cell_type": "code",
   "execution_count": 76,
   "metadata": {
    "ExecuteTime": {
     "end_time": "2021-09-02T00:33:36.766244Z",
     "start_time": "2021-09-02T00:33:36.752248Z"
    }
   },
   "outputs": [
    {
     "name": "stdout",
     "output_type": "stream",
     "text": [
      "hello\n",
      "world😉\n"
     ]
    }
   ],
   "source": [
    "print('hello\\nworld\\U0001f609')"
   ]
  },
  {
   "cell_type": "markdown",
   "metadata": {},
   "source": [
    "В случае же когда необходимо трактовать строку как набор символов можно использовать префикс `r`, означающий raw строку:"
   ]
  },
  {
   "cell_type": "code",
   "execution_count": 77,
   "metadata": {
    "ExecuteTime": {
     "end_time": "2021-09-02T00:33:37.126244Z",
     "start_time": "2021-09-02T00:33:37.113246Z"
    }
   },
   "outputs": [
    {
     "name": "stdout",
     "output_type": "stream",
     "text": [
      "hello\\nworld\\U0001f609\n"
     ]
    }
   ],
   "source": [
    "print(r'hello\\nworld\\U0001f609')"
   ]
  },
  {
   "cell_type": "markdown",
   "metadata": {
    "ExecuteTime": {
     "end_time": "2021-09-01T23:39:14.441987Z",
     "start_time": "2021-09-01T23:39:14.434989Z"
    }
   },
   "source": [
    "Оба модификатора можно использовать совместно:"
   ]
  },
  {
   "cell_type": "code",
   "execution_count": 78,
   "metadata": {
    "ExecuteTime": {
     "end_time": "2021-09-02T00:33:37.870244Z",
     "start_time": "2021-09-02T00:33:37.864248Z"
    }
   },
   "outputs": [
    {
     "name": "stdout",
     "output_type": "stream",
     "text": [
      "hello\n",
      "world\n",
      "{b}\\nworld\n",
      "hello\\nworld\n"
     ]
    }
   ],
   "source": [
    "print(f'{b}\\nworld')\n",
    "print(r'{b}\\nworld')\n",
    "print(fr'{b}\\nworld')"
   ]
  },
  {
   "cell_type": "markdown",
   "metadata": {},
   "source": [
    "### Списки"
   ]
  },
  {
   "cell_type": "code",
   "execution_count": 79,
   "metadata": {
    "ExecuteTime": {
     "end_time": "2021-09-02T00:33:41.278898Z",
     "start_time": "2021-09-02T00:33:41.264899Z"
    }
   },
   "outputs": [],
   "source": [
    "a = [1, 2, 3, 2, 0]"
   ]
  },
  {
   "cell_type": "code",
   "execution_count": 80,
   "metadata": {
    "ExecuteTime": {
     "end_time": "2021-09-02T00:33:41.751899Z",
     "start_time": "2021-09-02T00:33:41.744898Z"
    }
   },
   "outputs": [
    {
     "data": {
      "text/plain": [
       "list"
      ]
     },
     "execution_count": 80,
     "metadata": {},
     "output_type": "execute_result"
    }
   ],
   "source": [
    "type(a)"
   ]
  },
  {
   "cell_type": "markdown",
   "metadata": {},
   "source": [
    "В список могут входить любые объекты:"
   ]
  },
  {
   "cell_type": "code",
   "execution_count": 81,
   "metadata": {
    "ExecuteTime": {
     "end_time": "2021-09-02T00:33:43.054021Z",
     "start_time": "2021-09-02T00:33:43.041022Z"
    }
   },
   "outputs": [],
   "source": [
    "a = [13, 'боль', 'страдание', [13, 0]]"
   ]
  },
  {
   "cell_type": "markdown",
   "metadata": {},
   "source": [
    "Операции над списками (похожи на строку):"
   ]
  },
  {
   "cell_type": "markdown",
   "metadata": {},
   "source": [
    "#### Сложение списков (+) — конкатенация списокв"
   ]
  },
  {
   "cell_type": "code",
   "execution_count": 82,
   "metadata": {
    "ExecuteTime": {
     "end_time": "2021-09-02T00:33:45.750578Z",
     "start_time": "2021-09-02T00:33:45.736581Z"
    }
   },
   "outputs": [
    {
     "data": {
      "text/plain": [
       "[13, 'боль', 'страдание', [13, 0], 317, 'радость']"
      ]
     },
     "execution_count": 82,
     "metadata": {},
     "output_type": "execute_result"
    }
   ],
   "source": [
    "b = [317, 'радость']\n",
    "a + b"
   ]
  },
  {
   "cell_type": "markdown",
   "metadata": {},
   "source": [
    "#### Умножение списка на целое число n (*) — повтороение списка n раз"
   ]
  },
  {
   "cell_type": "code",
   "execution_count": 83,
   "metadata": {
    "ExecuteTime": {
     "end_time": "2021-09-02T00:33:49.765493Z",
     "start_time": "2021-09-02T00:33:49.760495Z"
    }
   },
   "outputs": [
    {
     "data": {
      "text/plain": [
       "[13, 'боль', 'страдание', [13, 0], 13, 'боль', 'страдание', [13, 0]]"
      ]
     },
     "execution_count": 83,
     "metadata": {},
     "output_type": "execute_result"
    }
   ],
   "source": [
    "с = a * 2\n",
    "с"
   ]
  },
  {
   "cell_type": "markdown",
   "metadata": {},
   "source": [
    "**Обратите внимание**, список представляет из себя плоский, динамический массив **ссылок** на объекты. При умножении списка на число происходит дублирование ссылок, но не происходит копирования объектов по этим ссылкам: "
   ]
  },
  {
   "cell_type": "code",
   "execution_count": 84,
   "metadata": {
    "ExecuteTime": {
     "end_time": "2021-09-02T00:34:07.858344Z",
     "start_time": "2021-09-02T00:34:07.840347Z"
    }
   },
   "outputs": [
    {
     "data": {
      "text/plain": [
       "2150820175104"
      ]
     },
     "execution_count": 84,
     "metadata": {},
     "output_type": "execute_result"
    }
   ],
   "source": [
    "id(с[3])"
   ]
  },
  {
   "cell_type": "code",
   "execution_count": 85,
   "metadata": {
    "ExecuteTime": {
     "end_time": "2021-09-02T00:34:09.387230Z",
     "start_time": "2021-09-02T00:34:09.369229Z"
    }
   },
   "outputs": [
    {
     "data": {
      "text/plain": [
       "2150820175104"
      ]
     },
     "execution_count": 85,
     "metadata": {},
     "output_type": "execute_result"
    }
   ],
   "source": [
    "id(с[-1])"
   ]
  },
  {
   "cell_type": "markdown",
   "metadata": {},
   "source": [
    "#### Индексация"
   ]
  },
  {
   "cell_type": "markdown",
   "metadata": {
    "ExecuteTime": {
     "end_time": "2021-09-01T23:51:09.455240Z",
     "start_time": "2021-09-01T23:51:09.438240Z"
    }
   },
   "source": [
    "Индексация по списку такая же как и в строках, включая продвинутую индексацию:"
   ]
  },
  {
   "cell_type": "code",
   "execution_count": 86,
   "metadata": {
    "ExecuteTime": {
     "end_time": "2021-09-02T00:34:14.179164Z",
     "start_time": "2021-09-02T00:34:14.160167Z"
    }
   },
   "outputs": [
    {
     "data": {
      "text/plain": [
       "[[13, 0], 'страдание', 'боль', 13]"
      ]
     },
     "execution_count": 86,
     "metadata": {},
     "output_type": "execute_result"
    }
   ],
   "source": [
    "a[::-1]"
   ]
  },
  {
   "cell_type": "markdown",
   "metadata": {},
   "source": [
    "В Python есть встроенная функция sorted для сортировки списков:"
   ]
  },
  {
   "cell_type": "code",
   "execution_count": 87,
   "metadata": {
    "ExecuteTime": {
     "end_time": "2021-09-02T00:34:15.688478Z",
     "start_time": "2021-09-02T00:34:15.671478Z"
    }
   },
   "outputs": [
    {
     "data": {
      "text/plain": [
       "[0, 0, 1, 1, 2, 2]"
      ]
     },
     "execution_count": 87,
     "metadata": {},
     "output_type": "execute_result"
    }
   ],
   "source": [
    "sorted([1, 2, 1, 0, 2, 0])"
   ]
  },
  {
   "cell_type": "markdown",
   "metadata": {},
   "source": [
    "#### Изменение списка"
   ]
  },
  {
   "cell_type": "markdown",
   "metadata": {},
   "source": [
    "**Внимание**: список — изменяемый объект! \n",
    "\n",
    "Можно менять элементы списка, можно добавлять новые элементы и удалять старые (`.append` и `.pop`)."
   ]
  },
  {
   "cell_type": "code",
   "execution_count": 88,
   "metadata": {
    "ExecuteTime": {
     "end_time": "2021-09-02T00:34:19.451075Z",
     "start_time": "2021-09-02T00:34:19.440078Z"
    }
   },
   "outputs": [
    {
     "data": {
      "text/plain": [
       "[13, 'боль', 'страдание', [13, 0]]"
      ]
     },
     "execution_count": 88,
     "metadata": {},
     "output_type": "execute_result"
    }
   ],
   "source": [
    "a"
   ]
  },
  {
   "cell_type": "code",
   "execution_count": 89,
   "metadata": {
    "ExecuteTime": {
     "end_time": "2021-09-02T00:34:20.105225Z",
     "start_time": "2021-09-02T00:34:20.089227Z"
    }
   },
   "outputs": [
    {
     "data": {
      "text/plain": [
       "[14, 'боль', 'страдание', [13, 0]]"
      ]
     },
     "execution_count": 89,
     "metadata": {},
     "output_type": "execute_result"
    }
   ],
   "source": [
    "a[0] = 14\n",
    "a"
   ]
  },
  {
   "cell_type": "code",
   "execution_count": 90,
   "metadata": {
    "ExecuteTime": {
     "end_time": "2021-09-02T00:34:21.091712Z",
     "start_time": "2021-09-02T00:34:21.073712Z"
    }
   },
   "outputs": [
    {
     "data": {
      "text/plain": [
       "[14, 'боль', 'страдание', [13, 0], 'c++']"
      ]
     },
     "execution_count": 90,
     "metadata": {},
     "output_type": "execute_result"
    }
   ],
   "source": [
    "a.append('c++')\n",
    "a"
   ]
  },
  {
   "cell_type": "markdown",
   "metadata": {},
   "source": [
    "Так как список в Python представляет собой массив, то обращение к произвольному элементу требует $\\mathcal{O}(1)$ операций, тогда как добавление в конец или удаление произвольного элемента $\\mathcal{O}(n)$ операций в худшем случае. Стоит учесть, что добавление в конец в среднем намного эффективнее, давая амортизированную сложность $\\mathcal{O}(1)$."
   ]
  },
  {
   "cell_type": "markdown",
   "metadata": {},
   "source": [
    "#### Преобразования списков и строк\n",
    "\n",
    "Два основных строковых метода для взаимодействия списков и строк:"
   ]
  },
  {
   "cell_type": "markdown",
   "metadata": {},
   "source": [
    "##### .split — разделить строку на список строк по определённому сепаратору"
   ]
  },
  {
   "cell_type": "code",
   "execution_count": 91,
   "metadata": {
    "ExecuteTime": {
     "end_time": "2021-09-02T00:34:32.334747Z",
     "start_time": "2021-09-02T00:34:32.328747Z"
    }
   },
   "outputs": [
    {
     "data": {
      "text/plain": [
       "['abaka', 'baraka', 'kusaka']"
      ]
     },
     "execution_count": 91,
     "metadata": {},
     "output_type": "execute_result"
    }
   ],
   "source": [
    "s = 'abaka,baraka,kusaka'\n",
    "s.split(',')"
   ]
  },
  {
   "cell_type": "markdown",
   "metadata": {},
   "source": [
    "##### .join — соеденить список строк в одну большую строку по определённому сепаратору"
   ]
  },
  {
   "cell_type": "code",
   "execution_count": 92,
   "metadata": {
    "ExecuteTime": {
     "end_time": "2021-09-02T00:34:33.301747Z",
     "start_time": "2021-09-02T00:34:33.295748Z"
    }
   },
   "outputs": [
    {
     "data": {
      "text/plain": [
       "'arb, borb, kork'"
      ]
     },
     "execution_count": 92,
     "metadata": {},
     "output_type": "execute_result"
    }
   ],
   "source": [
    "\", \".join(['arb', 'borb', 'kork'])"
   ]
  },
  {
   "cell_type": "markdown",
   "metadata": {},
   "source": [
    "<font color='red'>**Задача 4.** В строке s через запятую записаны слова. Получите строку result, в которой будут записаны через запятую слова из s, отсортированные в лексикографическом порядке. </font>\n"
   ]
  },
  {
   "cell_type": "code",
   "execution_count": 93,
   "metadata": {
    "ExecuteTime": {
     "end_time": "2021-09-02T00:34:35.136149Z",
     "start_time": "2021-09-02T00:34:35.128148Z"
    }
   },
   "outputs": [],
   "source": [
    "s = \"my,mother,is,washing,window,my,father,is,watching,movies\"\n",
    "\n",
    "# your code here "
   ]
  },
  {
   "cell_type": "code",
   "execution_count": null,
   "metadata": {
    "ExecuteTime": {
     "end_time": "2021-09-01T23:53:14.263216Z",
     "start_time": "2021-09-01T23:53:14.253217Z"
    }
   },
   "outputs": [],
   "source": [
    "assert result == 'father,is,is,mother,movies,my,my,washing,watching,window'"
   ]
  },
  {
   "cell_type": "markdown",
   "metadata": {},
   "source": [
    "<font color='red'>**Задача 5*.** В строке s через запятую записаны слова. Получите строку result, в которой будут записаны через запятую слова из s, отсортированные в порядке их длины, от большего к меньшему. </font>\n"
   ]
  },
  {
   "cell_type": "code",
   "execution_count": 94,
   "metadata": {
    "ExecuteTime": {
     "end_time": "2021-09-02T00:34:36.777185Z",
     "start_time": "2021-09-02T00:34:36.760186Z"
    }
   },
   "outputs": [],
   "source": [
    "s = \"my,mother,is,washing,window,my,father,is,watching,movies\"\n",
    "\n",
    "# your code here "
   ]
  },
  {
   "cell_type": "code",
   "execution_count": null,
   "metadata": {},
   "outputs": [],
   "source": [
    "assert result == 'watching,washing,mother,window,father,movies,my,is,my,is'"
   ]
  },
  {
   "cell_type": "markdown",
   "metadata": {},
   "source": [
    "## Переменные, объекты, ссылки"
   ]
  },
  {
   "cell_type": "markdown",
   "metadata": {},
   "source": [
    "Рассмотрим простую програму:\n",
    "\n",
    "    x = 42\n",
    "    x = ['s', 'v', 'm']\n",
    "    y = x\n",
    "    x[0] = \"l\"\n",
    "    x = ['h', 'm', 'm']\n",
    "    print(x)\n",
    "    print(y)\n",
    "    \n",
    "Результатом програмы будет:\n",
    "    \n",
    "    ['h', 'm', 'm']\n",
    "    ['l', 'v', 'm']"
   ]
  },
  {
   "cell_type": "markdown",
   "metadata": {},
   "source": [
    "Разберём по шагам, что происходит в данном примере:"
   ]
  },
  {
   "cell_type": "code",
   "execution_count": 95,
   "metadata": {
    "ExecuteTime": {
     "end_time": "2021-09-02T00:34:41.540199Z",
     "start_time": "2021-09-02T00:34:41.536199Z"
    }
   },
   "outputs": [],
   "source": [
    "x = 42"
   ]
  },
  {
   "cell_type": "markdown",
   "metadata": {},
   "source": [
    "1. Создается объект, представляющий число 42\n",
    "2. Создается переменная x, если она еще отсутствует\n",
    "3. В переменную x записывается ссылка на созданный объект"
   ]
  },
  {
   "cell_type": "code",
   "execution_count": 96,
   "metadata": {
    "ExecuteTime": {
     "end_time": "2021-09-02T00:34:42.492125Z",
     "start_time": "2021-09-02T00:34:42.480128Z"
    }
   },
   "outputs": [],
   "source": [
    "x = ['s', 'v', 'm']"
   ]
  },
  {
   "cell_type": "markdown",
   "metadata": {},
   "source": [
    "4. Создается объект, представляющий список\n",
    "5. В переменную x записывается ссылка на новый объект\n",
    "6. Объект, представляющий 42, уничтожается (сборка мусора)"
   ]
  },
  {
   "cell_type": "code",
   "execution_count": 97,
   "metadata": {
    "ExecuteTime": {
     "end_time": "2021-09-02T00:34:44.320224Z",
     "start_time": "2021-09-02T00:34:44.312224Z"
    }
   },
   "outputs": [],
   "source": [
    "y = x"
   ]
  },
  {
   "cell_type": "markdown",
   "metadata": {},
   "source": [
    "7. Создаётся переменная y\n",
    "8. В переменную y записывается ссылка на уже\n",
    "существующий объект"
   ]
  },
  {
   "cell_type": "code",
   "execution_count": 98,
   "metadata": {
    "ExecuteTime": {
     "end_time": "2021-09-02T00:34:46.094914Z",
     "start_time": "2021-09-02T00:34:46.087914Z"
    }
   },
   "outputs": [],
   "source": [
    "x[0] = \"l\""
   ]
  },
  {
   "cell_type": "markdown",
   "metadata": {},
   "source": [
    "9. Меняется содержимое объекта, изменяется нулевой элемент"
   ]
  },
  {
   "cell_type": "code",
   "execution_count": 99,
   "metadata": {
    "ExecuteTime": {
     "end_time": "2021-09-02T00:34:47.115960Z",
     "start_time": "2021-09-02T00:34:47.111961Z"
    }
   },
   "outputs": [],
   "source": [
    "x = ['h','m','m']"
   ]
  },
  {
   "cell_type": "markdown",
   "metadata": {},
   "source": [
    "10. Создаётся новый объект, представляющий новый список\n",
    "11. В переменную x записывается ссылка на новый объект\n",
    "12. Старый объект не удаляется, так как на него ссылается y"
   ]
  },
  {
   "cell_type": "code",
   "execution_count": 100,
   "metadata": {
    "ExecuteTime": {
     "end_time": "2021-09-02T00:34:47.833959Z",
     "start_time": "2021-09-02T00:34:47.815960Z"
    }
   },
   "outputs": [
    {
     "name": "stdout",
     "output_type": "stream",
     "text": [
      "['h', 'm', 'm']\n",
      "['l', 'v', 'm']\n"
     ]
    }
   ],
   "source": [
    "print(x)\n",
    "print(y)"
   ]
  },
  {
   "cell_type": "markdown",
   "metadata": {},
   "source": [
    "**Что важно запомнить**:\n",
    "\n",
    "1. Одной переменной в разное время могут соответствовать объекты разных типов. У самой переменной нет заданного типа, её тип совпадает с типом объекта на который она ссылается\n",
    "\n",
    "2. При присваивании копирование объекта не происходит"
   ]
  },
  {
   "cell_type": "markdown",
   "metadata": {},
   "source": [
    "Проверить, что одна переменная ссылается на тот же объект, что и другая переменная, можно с помощью оператора `is`:"
   ]
  },
  {
   "cell_type": "code",
   "execution_count": 101,
   "metadata": {
    "ExecuteTime": {
     "end_time": "2021-09-02T00:35:13.753651Z",
     "start_time": "2021-09-02T00:35:13.735651Z"
    }
   },
   "outputs": [
    {
     "data": {
      "text/plain": [
       "True"
      ]
     },
     "execution_count": 101,
     "metadata": {},
     "output_type": "execute_result"
    }
   ],
   "source": [
    "x = [1, 2, 3]\n",
    "y = x\n",
    "x is y"
   ]
  },
  {
   "cell_type": "markdown",
   "metadata": {},
   "source": [
    "Ещё один способ разобраться — команда `id`, которая показывает идентификатор объекта:"
   ]
  },
  {
   "cell_type": "code",
   "execution_count": 102,
   "metadata": {
    "ExecuteTime": {
     "end_time": "2021-09-02T00:35:24.561245Z",
     "start_time": "2021-09-02T00:35:24.551246Z"
    }
   },
   "outputs": [
    {
     "name": "stdout",
     "output_type": "stream",
     "text": [
      "2150820188992\n",
      "2150820209344\n"
     ]
    }
   ],
   "source": [
    "y = [1, 2, 3]\n",
    "\n",
    "print(id(x))\n",
    "print(id(y))"
   ]
  },
  {
   "cell_type": "markdown",
   "metadata": {},
   "source": [
    "Оператор `is` по сути сравнивает `id` объектов."
   ]
  },
  {
   "cell_type": "markdown",
   "metadata": {},
   "source": [
    "<font color='red'>**Задача 6.** Что будет выведено в результате выполнения следующей програмы: </font>\n",
    "\n",
    "\n",
    "    x = ['python']\n",
    "    y = x\n",
    "    y.append(3.6)\n",
    "    x += [2, 6]\n",
    "    print(x)\n",
    "    print(y)"
   ]
  },
  {
   "cell_type": "code",
   "execution_count": 103,
   "metadata": {
    "ExecuteTime": {
     "end_time": "2021-09-02T00:35:28.550362Z",
     "start_time": "2021-09-02T00:35:28.535365Z"
    }
   },
   "outputs": [],
   "source": [
    "# your answer"
   ]
  },
  {
   "cell_type": "markdown",
   "metadata": {},
   "source": [
    "<font color='red'>**Задача 7.** Что будет выведено в результате выполнения следующей програмы: </font>\n",
    "    \n",
    "    x = 'python'\n",
    "    y = x\n",
    "    x += \"2.6\"\n",
    "    print(x)\n",
    "    print(y)"
   ]
  },
  {
   "cell_type": "code",
   "execution_count": 104,
   "metadata": {
    "ExecuteTime": {
     "end_time": "2021-09-02T00:35:28.976362Z",
     "start_time": "2021-09-02T00:35:28.959365Z"
    }
   },
   "outputs": [],
   "source": [
    "# your answer"
   ]
  },
  {
   "cell_type": "markdown",
   "metadata": {},
   "source": [
    "<font color='red'>**Задача 8* (эффект кэширования малых чисел).** Что будет выведено в результате выполнения следующей програмы: </font>\n",
    "    \n",
    "    x = 1\n",
    "    y = 1\n",
    "    print(x is y)\n",
    "    \n"
   ]
  },
  {
   "cell_type": "markdown",
   "metadata": {},
   "source": [
    "<font color='red'>**Задача 9*.** Что будет выведено в результате выполнения следующей програмы: </font>\n",
    "\n",
    "    x = [1, 2]\n",
    "    y = ['a']\n",
    "\n",
    "    y.append(x)\n",
    "    z = y\n",
    "    x += [z]\n",
    "    print(z[1][2][0])"
   ]
  },
  {
   "cell_type": "code",
   "execution_count": 105,
   "metadata": {
    "ExecuteTime": {
     "end_time": "2021-09-02T00:35:29.700432Z",
     "start_time": "2021-09-02T00:35:29.687436Z"
    }
   },
   "outputs": [],
   "source": [
    "# your answer"
   ]
  },
  {
   "cell_type": "markdown",
   "metadata": {},
   "source": [
    "## Базовые структуры данных: кортежи, словари, множества"
   ]
  },
  {
   "cell_type": "markdown",
   "metadata": {},
   "source": [
    "Ассимптотику операций над основными структурами данных можно посмотреть [здесь](https://wiki.python.org/moin/TimeComplexity)."
   ]
  },
  {
   "cell_type": "markdown",
   "metadata": {},
   "source": [
    "### Кортежи"
   ]
  },
  {
   "cell_type": "markdown",
   "metadata": {},
   "source": [
    "Кортеж — неизменяемый аналог списка."
   ]
  },
  {
   "cell_type": "code",
   "execution_count": 106,
   "metadata": {
    "ExecuteTime": {
     "end_time": "2021-09-02T00:35:36.354055Z",
     "start_time": "2021-09-02T00:35:36.336057Z"
    }
   },
   "outputs": [
    {
     "data": {
      "text/plain": [
       "('s', 0, 's')"
      ]
     },
     "execution_count": 106,
     "metadata": {},
     "output_type": "execute_result"
    }
   ],
   "source": [
    "a = ('s', 0, 's')\n",
    "a"
   ]
  },
  {
   "cell_type": "markdown",
   "metadata": {},
   "source": [
    "Элементы кортежа менять нельзя:"
   ]
  },
  {
   "cell_type": "code",
   "execution_count": 107,
   "metadata": {
    "ExecuteTime": {
     "end_time": "2021-09-02T00:35:37.304980Z",
     "start_time": "2021-09-02T00:35:37.296982Z"
    }
   },
   "outputs": [
    {
     "ename": "TypeError",
     "evalue": "'tuple' object does not support item assignment",
     "output_type": "error",
     "traceback": [
      "\u001b[1;31m---------------------------------------------------------------------------\u001b[0m",
      "\u001b[1;31mTypeError\u001b[0m                                 Traceback (most recent call last)",
      "\u001b[1;32m~\\AppData\\Local\\Temp/ipykernel_422812/246674787.py\u001b[0m in \u001b[0;36m<module>\u001b[1;34m\u001b[0m\n\u001b[1;32m----> 1\u001b[1;33m \u001b[0ma\u001b[0m\u001b[1;33m[\u001b[0m\u001b[1;36m1\u001b[0m\u001b[1;33m]\u001b[0m \u001b[1;33m=\u001b[0m \u001b[1;34m'1'\u001b[0m\u001b[1;33m\u001b[0m\u001b[1;33m\u001b[0m\u001b[0m\n\u001b[0m",
      "\u001b[1;31mTypeError\u001b[0m: 'tuple' object does not support item assignment"
     ]
    }
   ],
   "source": [
    "a[1] = '1' "
   ]
  },
  {
   "cell_type": "markdown",
   "metadata": {},
   "source": [
    "Тем не менее, если элемент кортежа — изменяемый объект, можно изменять этот элемент:"
   ]
  },
  {
   "cell_type": "code",
   "execution_count": 108,
   "metadata": {
    "ExecuteTime": {
     "end_time": "2021-09-02T00:35:41.217433Z",
     "start_time": "2021-09-02T00:35:41.208436Z"
    }
   },
   "outputs": [
    {
     "data": {
      "text/plain": [
       "([2, 3], 4, 5)"
      ]
     },
     "execution_count": 108,
     "metadata": {},
     "output_type": "execute_result"
    }
   ],
   "source": [
    "a = ([1, 2, 3], 4, 5)\n",
    "a[0].pop(0)\n",
    "a"
   ]
  },
  {
   "cell_type": "markdown",
   "metadata": {},
   "source": [
    "### Словари"
   ]
  },
  {
   "cell_type": "markdown",
   "metadata": {},
   "source": [
    "Словарь состоит из пар (ключ, значение). Под капотом словарь — это hash-таблица cо средней ассимптотикой на добавление, изменение, поиск объекта $\\mathcal{O}(1)$."
   ]
  },
  {
   "cell_type": "code",
   "execution_count": 109,
   "metadata": {
    "ExecuteTime": {
     "end_time": "2021-09-02T00:36:41.865464Z",
     "start_time": "2021-09-02T00:36:41.847465Z"
    }
   },
   "outputs": [
    {
     "data": {
      "text/plain": [
       "2"
      ]
     },
     "execution_count": 109,
     "metadata": {},
     "output_type": "execute_result"
    }
   ],
   "source": [
    "d = {'cat':4, 'bird':2, 4:1}\n",
    "d['bird']"
   ]
  },
  {
   "cell_type": "markdown",
   "metadata": {},
   "source": [
    "В словарь можно добавлять новые пары:"
   ]
  },
  {
   "cell_type": "code",
   "execution_count": 110,
   "metadata": {
    "ExecuteTime": {
     "end_time": "2021-09-02T00:36:43.026132Z",
     "start_time": "2021-09-02T00:36:43.015132Z"
    }
   },
   "outputs": [],
   "source": [
    "d['you'] = 2"
   ]
  },
  {
   "cell_type": "markdown",
   "metadata": {},
   "source": [
    "Ключами могут быть только неизменяемые объекты:"
   ]
  },
  {
   "cell_type": "code",
   "execution_count": 111,
   "metadata": {
    "ExecuteTime": {
     "end_time": "2021-09-02T00:36:44.409510Z",
     "start_time": "2021-09-02T00:36:44.407509Z"
    }
   },
   "outputs": [],
   "source": [
    "d[(1, 2)] = 1"
   ]
  },
  {
   "cell_type": "code",
   "execution_count": 112,
   "metadata": {
    "ExecuteTime": {
     "end_time": "2021-09-02T00:36:45.290699Z",
     "start_time": "2021-09-02T00:36:45.271699Z"
    }
   },
   "outputs": [
    {
     "ename": "TypeError",
     "evalue": "unhashable type: 'list'",
     "output_type": "error",
     "traceback": [
      "\u001b[1;31m---------------------------------------------------------------------------\u001b[0m",
      "\u001b[1;31mTypeError\u001b[0m                                 Traceback (most recent call last)",
      "\u001b[1;32m~\\AppData\\Local\\Temp/ipykernel_422812/3896648782.py\u001b[0m in \u001b[0;36m<module>\u001b[1;34m\u001b[0m\n\u001b[1;32m----> 1\u001b[1;33m \u001b[0md\u001b[0m\u001b[1;33m[\u001b[0m\u001b[1;33m[\u001b[0m\u001b[1;36m1\u001b[0m\u001b[1;33m,\u001b[0m \u001b[1;36m2\u001b[0m\u001b[1;33m]\u001b[0m\u001b[1;33m]\u001b[0m \u001b[1;33m=\u001b[0m \u001b[1;36m2\u001b[0m\u001b[1;33m\u001b[0m\u001b[1;33m\u001b[0m\u001b[0m\n\u001b[0m",
      "\u001b[1;31mTypeError\u001b[0m: unhashable type: 'list'"
     ]
    }
   ],
   "source": [
    "d[[1, 2]] = 2"
   ]
  },
  {
   "cell_type": "code",
   "execution_count": 113,
   "metadata": {
    "ExecuteTime": {
     "end_time": "2021-09-02T00:36:46.212053Z",
     "start_time": "2021-09-02T00:36:46.200053Z"
    }
   },
   "outputs": [
    {
     "ename": "TypeError",
     "evalue": "unhashable type: 'list'",
     "output_type": "error",
     "traceback": [
      "\u001b[1;31m---------------------------------------------------------------------------\u001b[0m",
      "\u001b[1;31mTypeError\u001b[0m                                 Traceback (most recent call last)",
      "\u001b[1;32m~\\AppData\\Local\\Temp/ipykernel_422812/2046150665.py\u001b[0m in \u001b[0;36m<module>\u001b[1;34m\u001b[0m\n\u001b[1;32m----> 1\u001b[1;33m \u001b[0md\u001b[0m\u001b[1;33m[\u001b[0m\u001b[1;33m(\u001b[0m\u001b[1;33m[\u001b[0m\u001b[1;36m1\u001b[0m\u001b[1;33m,\u001b[0m \u001b[1;36m2\u001b[0m\u001b[1;33m]\u001b[0m\u001b[1;33m,\u001b[0m \u001b[1;36m2\u001b[0m\u001b[1;33m)\u001b[0m\u001b[1;33m]\u001b[0m \u001b[1;33m=\u001b[0m \u001b[1;36m2\u001b[0m\u001b[1;33m\u001b[0m\u001b[1;33m\u001b[0m\u001b[0m\n\u001b[0m",
      "\u001b[1;31mTypeError\u001b[0m: unhashable type: 'list'"
     ]
    }
   ],
   "source": [
    "d[([1, 2], 2)] = 2"
   ]
  },
  {
   "cell_type": "markdown",
   "metadata": {},
   "source": [
    "Три полезных метода словаря: \n",
    "\n",
    "* .keys — получить все ключи словаря\n",
    "* .values — получить все значения словаря\n",
    "* .items — получить все кортежи ключ, значения словаря"
   ]
  },
  {
   "cell_type": "code",
   "execution_count": 114,
   "metadata": {
    "ExecuteTime": {
     "end_time": "2021-09-02T00:36:50.375485Z",
     "start_time": "2021-09-02T00:36:50.366485Z"
    }
   },
   "outputs": [
    {
     "name": "stdout",
     "output_type": "stream",
     "text": [
      "dict_keys(['cat', 'bird', 4, 'you', (1, 2)])\n",
      "dict_values([4, 2, 1, 2, 1])\n",
      "dict_items([('cat', 4), ('bird', 2), (4, 1), ('you', 2), ((1, 2), 1)])\n"
     ]
    }
   ],
   "source": [
    "print(d.keys())\n",
    "print(d.values())\n",
    "print(d.items())"
   ]
  },
  {
   "cell_type": "markdown",
   "metadata": {
    "ExecuteTime": {
     "end_time": "2021-09-02T00:37:30.764811Z",
     "start_time": "2021-09-02T00:37:30.759812Z"
    }
   },
   "source": [
    "Ключи словаря могут быть произвольными объектами:"
   ]
  },
  {
   "cell_type": "code",
   "execution_count": 116,
   "metadata": {
    "ExecuteTime": {
     "end_time": "2021-09-02T00:37:47.819939Z",
     "start_time": "2021-09-02T00:37:47.815939Z"
    }
   },
   "outputs": [
    {
     "data": {
      "text/plain": [
       "{'cat': 4, 'bird': 2, 4: [1, 2, 3, [4, 5]], 'you': 2, (1, 2): 1}"
      ]
     },
     "execution_count": 116,
     "metadata": {},
     "output_type": "execute_result"
    }
   ],
   "source": [
    "d[4] = [1, 2, 3, [4, 5]]\n",
    "d"
   ]
  },
  {
   "cell_type": "code",
   "execution_count": 117,
   "metadata": {
    "ExecuteTime": {
     "end_time": "2021-09-02T00:37:55.864127Z",
     "start_time": "2021-09-02T00:37:55.856127Z"
    }
   },
   "outputs": [],
   "source": [
    "d[4].append(1)"
   ]
  },
  {
   "cell_type": "code",
   "execution_count": 118,
   "metadata": {
    "ExecuteTime": {
     "end_time": "2021-09-02T00:37:57.557100Z",
     "start_time": "2021-09-02T00:37:57.544101Z"
    }
   },
   "outputs": [
    {
     "data": {
      "text/plain": [
       "{'cat': 4, 'bird': 2, 4: [1, 2, 3, [4, 5], 1], 'you': 2, (1, 2): 1}"
      ]
     },
     "execution_count": 118,
     "metadata": {},
     "output_type": "execute_result"
    }
   ],
   "source": [
    "d"
   ]
  },
  {
   "cell_type": "markdown",
   "metadata": {},
   "source": [
    "**Внимание**: по умолчанию, в словарях не задано никакого порядка на элементах. "
   ]
  },
  {
   "cell_type": "markdown",
   "metadata": {},
   "source": [
    "### Множества"
   ]
  },
  {
   "cell_type": "markdown",
   "metadata": {},
   "source": [
    "**Внимание**, `set` в СPython реализовани как hash-таблица с ассимптотикой $\\mathcal{O}(1)$ операций в среднем на поиск и добавление/удаление."
   ]
  },
  {
   "cell_type": "code",
   "execution_count": 119,
   "metadata": {
    "ExecuteTime": {
     "end_time": "2021-09-02T00:38:11.366165Z",
     "start_time": "2021-09-02T00:38:11.358164Z"
    }
   },
   "outputs": [
    {
     "data": {
      "text/plain": [
       "{1, 2}"
      ]
     },
     "execution_count": 119,
     "metadata": {},
     "output_type": "execute_result"
    }
   ],
   "source": [
    "s1 = {1, 2}\n",
    "s1"
   ]
  },
  {
   "cell_type": "code",
   "execution_count": 124,
   "metadata": {
    "ExecuteTime": {
     "end_time": "2021-09-02T00:40:46.266931Z",
     "start_time": "2021-09-02T00:40:46.261931Z"
    }
   },
   "outputs": [
    {
     "data": {
      "text/plain": [
       "set"
      ]
     },
     "execution_count": 124,
     "metadata": {},
     "output_type": "execute_result"
    }
   ],
   "source": [
    "type(s1)"
   ]
  },
  {
   "cell_type": "markdown",
   "metadata": {},
   "source": [
    "Добавление элемента в множество:"
   ]
  },
  {
   "cell_type": "code",
   "execution_count": 120,
   "metadata": {
    "ExecuteTime": {
     "end_time": "2021-09-02T00:38:15.757149Z",
     "start_time": "2021-09-02T00:38:15.750148Z"
    }
   },
   "outputs": [
    {
     "data": {
      "text/plain": [
       "{1, 2, 3}"
      ]
     },
     "execution_count": 120,
     "metadata": {},
     "output_type": "execute_result"
    }
   ],
   "source": [
    "s1.add(3)\n",
    "s1"
   ]
  },
  {
   "cell_type": "markdown",
   "metadata": {},
   "source": [
    "Проверка на вхождение:"
   ]
  },
  {
   "cell_type": "code",
   "execution_count": 121,
   "metadata": {
    "ExecuteTime": {
     "end_time": "2021-09-02T00:38:16.361449Z",
     "start_time": "2021-09-02T00:38:16.358451Z"
    }
   },
   "outputs": [
    {
     "data": {
      "text/plain": [
       "True"
      ]
     },
     "execution_count": 121,
     "metadata": {},
     "output_type": "execute_result"
    }
   ],
   "source": [
    "3 in s1"
   ]
  },
  {
   "cell_type": "markdown",
   "metadata": {},
   "source": [
    "Множество поддерживает стандартные теоретико множественные операции:\n",
    "\n",
    "* .intersection (или &) — пересечение множеств\n",
    "* .union (или |) — объединение множеств\n",
    "* .difference (или -) — разность множеств"
   ]
  },
  {
   "cell_type": "code",
   "execution_count": 122,
   "metadata": {
    "ExecuteTime": {
     "end_time": "2021-09-02T00:38:18.537322Z",
     "start_time": "2021-09-02T00:38:18.534318Z"
    }
   },
   "outputs": [
    {
     "data": {
      "text/plain": [
       "{3}"
      ]
     },
     "execution_count": 122,
     "metadata": {},
     "output_type": "execute_result"
    }
   ],
   "source": [
    "s2 = {3, 4, 5}\n",
    "s1.intersection(s2)"
   ]
  },
  {
   "cell_type": "code",
   "execution_count": 123,
   "metadata": {
    "ExecuteTime": {
     "end_time": "2021-09-02T00:38:20.348784Z",
     "start_time": "2021-09-02T00:38:20.343785Z"
    }
   },
   "outputs": [
    {
     "data": {
      "text/plain": [
       "{3}"
      ]
     },
     "execution_count": 123,
     "metadata": {},
     "output_type": "execute_result"
    }
   ],
   "source": [
    "s1 & s2"
   ]
  },
  {
   "cell_type": "markdown",
   "metadata": {},
   "source": [
    "## Основные операторы "
   ]
  },
  {
   "cell_type": "markdown",
   "metadata": {},
   "source": [
    "### Условные операторы"
   ]
  },
  {
   "cell_type": "markdown",
   "metadata": {},
   "source": [
    "В Python отступы играют важную роль! Это часть синтаксиса языка. Стандартные `if`, `if else` записываются следующим образом:"
   ]
  },
  {
   "cell_type": "code",
   "execution_count": 125,
   "metadata": {
    "ExecuteTime": {
     "end_time": "2021-09-02T00:40:53.287490Z",
     "start_time": "2021-09-02T00:40:53.284489Z"
    }
   },
   "outputs": [],
   "source": [
    "x = 1\n",
    "if x > 5:\n",
    "    print(x)"
   ]
  },
  {
   "cell_type": "code",
   "execution_count": 126,
   "metadata": {
    "ExecuteTime": {
     "end_time": "2021-09-02T00:40:55.349489Z",
     "start_time": "2021-09-02T00:40:55.342489Z"
    }
   },
   "outputs": [
    {
     "name": "stdout",
     "output_type": "stream",
     "text": [
      "2\n"
     ]
    }
   ],
   "source": [
    "x = 1\n",
    "if x > 5:\n",
    "    print(x)\n",
    "else:\n",
    "    print('2')"
   ]
  },
  {
   "cell_type": "markdown",
   "metadata": {},
   "source": [
    "Конструкция `elif` (в Python нет switch):"
   ]
  },
  {
   "cell_type": "code",
   "execution_count": 127,
   "metadata": {
    "ExecuteTime": {
     "end_time": "2021-09-02T00:40:55.980488Z",
     "start_time": "2021-09-02T00:40:55.965490Z"
    }
   },
   "outputs": [
    {
     "name": "stdout",
     "output_type": "stream",
     "text": [
      "пам пам\n"
     ]
    }
   ],
   "source": [
    "x = 1\n",
    "if x > 5:\n",
    "    print(x)\n",
    "elif x > 3:\n",
    "    print('ляляля')\n",
    "else:\n",
    "    print('пам пам')"
   ]
  },
  {
   "cell_type": "markdown",
   "metadata": {},
   "source": [
    "Тернарный оператор:"
   ]
  },
  {
   "cell_type": "code",
   "execution_count": 128,
   "metadata": {
    "ExecuteTime": {
     "end_time": "2021-09-02T00:40:58.409491Z",
     "start_time": "2021-09-02T00:40:58.405489Z"
    }
   },
   "outputs": [
    {
     "data": {
      "text/plain": [
       "1"
      ]
     },
     "execution_count": 128,
     "metadata": {},
     "output_type": "execute_result"
    }
   ],
   "source": [
    "a = 2\n",
    "b = 3\n",
    "x = 1 if b > a else 2\n",
    "x"
   ]
  },
  {
   "cell_type": "markdown",
   "metadata": {},
   "source": [
    "### Циклы"
   ]
  },
  {
   "cell_type": "markdown",
   "metadata": {},
   "source": [
    "Цикл `while` (Цикла do...while в питоне нет):"
   ]
  },
  {
   "cell_type": "code",
   "execution_count": 129,
   "metadata": {
    "ExecuteTime": {
     "end_time": "2021-09-02T00:41:01.741489Z",
     "start_time": "2021-09-02T00:41:01.725489Z"
    }
   },
   "outputs": [
    {
     "name": "stdout",
     "output_type": "stream",
     "text": [
      "5\n",
      "4\n",
      "3\n",
      "2\n",
      "1\n"
     ]
    }
   ],
   "source": [
    "x = 5\n",
    "while x > 0:\n",
    "    print(x)\n",
    "    x -= 1"
   ]
  },
  {
   "cell_type": "markdown",
   "metadata": {},
   "source": [
    "Цикл `for` имеет более общую структуру чем в языке C. В цикле `for` можно итерироваться по произвольной коллекции:"
   ]
  },
  {
   "cell_type": "code",
   "execution_count": 130,
   "metadata": {
    "ExecuteTime": {
     "end_time": "2021-09-02T00:41:02.760489Z",
     "start_time": "2021-09-02T00:41:02.748489Z"
    }
   },
   "outputs": [
    {
     "name": "stdout",
     "output_type": "stream",
     "text": [
      "1\n",
      "3\n",
      "5\n",
      "2\n",
      "1\n"
     ]
    }
   ],
   "source": [
    "for x in [1, 3, 5, 2, 1]:\n",
    "    print(x)"
   ]
  },
  {
   "cell_type": "markdown",
   "metadata": {},
   "source": [
    "Привычный цикл `for` можно записать с помощью функции `range`:\n",
    "\n",
    "`range(start, stop ,step)`\n",
    "\n",
    "* `start` — начальное значение счётчика\n",
    "* `stop` — если счётчик больше значения `stop`, то выйти из цикла\n",
    "* `step` — на сколько увеличивается счётчик за одну итерацию\n",
    "\n",
    "Все три значения — целочисленные"
   ]
  },
  {
   "cell_type": "code",
   "execution_count": 131,
   "metadata": {
    "ExecuteTime": {
     "end_time": "2021-09-02T00:41:06.252489Z",
     "start_time": "2021-09-02T00:41:06.236490Z"
    }
   },
   "outputs": [
    {
     "name": "stdout",
     "output_type": "stream",
     "text": [
      "1\n",
      "3\n",
      "5\n",
      "7\n",
      "9\n"
     ]
    }
   ],
   "source": [
    "for i in range(1, 10, 2):\n",
    "    print(i)"
   ]
  },
  {
   "cell_type": "markdown",
   "metadata": {},
   "source": [
    "При использовании `list()`:"
   ]
  },
  {
   "cell_type": "code",
   "execution_count": 132,
   "metadata": {
    "ExecuteTime": {
     "end_time": "2021-09-02T00:41:09.350489Z",
     "start_time": "2021-09-02T00:41:09.341489Z"
    }
   },
   "outputs": [
    {
     "data": {
      "text/plain": [
       "[1, 3, 5, 7, 9]"
      ]
     },
     "execution_count": 132,
     "metadata": {},
     "output_type": "execute_result"
    }
   ],
   "source": [
    "list(range(1, 10, 2))"
   ]
  },
  {
   "cell_type": "markdown",
   "metadata": {},
   "source": [
    "Не нужно использовать `range` без надобности :)"
   ]
  },
  {
   "cell_type": "code",
   "execution_count": 133,
   "metadata": {
    "ExecuteTime": {
     "end_time": "2021-09-02T00:41:11.471488Z",
     "start_time": "2021-09-02T00:41:11.453489Z"
    }
   },
   "outputs": [
    {
     "name": "stdout",
     "output_type": "stream",
     "text": [
      "М\n",
      "О\n",
      "В\n",
      "М\n",
      "О\n",
      "В\n"
     ]
    }
   ],
   "source": [
    "students = ['Матвей', 'Олег', 'Владимир']\n",
    "\n",
    "# Плохой способ!\n",
    "for i in range(len(students)):\n",
    "    print(students[i][0])\n",
    "        \n",
    "# Хороший способ!\n",
    "for student in students:\n",
    "    print(student[0])"
   ]
  },
  {
   "cell_type": "markdown",
   "metadata": {},
   "source": [
    "Как в C есть операторы `continue` (переход на следующую итерацию цикла) и `break` (прерывание цикла):"
   ]
  },
  {
   "cell_type": "code",
   "execution_count": 134,
   "metadata": {
    "ExecuteTime": {
     "end_time": "2021-09-02T00:41:13.490489Z",
     "start_time": "2021-09-02T00:41:13.484489Z"
    }
   },
   "outputs": [
    {
     "name": "stdout",
     "output_type": "stream",
     "text": [
      "1\n",
      "3\n",
      "5\n",
      "7\n",
      "9\n"
     ]
    }
   ],
   "source": [
    "for i in range(10):\n",
    "    if i % 2 == 0:\n",
    "        continue\n",
    "    else:\n",
    "        print(i)"
   ]
  },
  {
   "cell_type": "code",
   "execution_count": 135,
   "metadata": {
    "ExecuteTime": {
     "end_time": "2021-09-02T00:41:13.693489Z",
     "start_time": "2021-09-02T00:41:13.686489Z"
    }
   },
   "outputs": [
    {
     "name": "stdout",
     "output_type": "stream",
     "text": [
      "1\n",
      "2\n",
      "3\n",
      "4\n",
      "5\n",
      "6\n"
     ]
    }
   ],
   "source": [
    "for i in range(1, 10):\n",
    "    if i % 7 == 0:\n",
    "        break\n",
    "    else:\n",
    "        print(i)"
   ]
  },
  {
   "cell_type": "markdown",
   "metadata": {},
   "source": [
    "`else` в циклах (срабатывает если выход произошёл не с помощью break):"
   ]
  },
  {
   "cell_type": "code",
   "execution_count": 136,
   "metadata": {
    "ExecuteTime": {
     "end_time": "2021-09-02T00:41:14.482350Z",
     "start_time": "2021-09-02T00:41:14.477352Z"
    }
   },
   "outputs": [],
   "source": [
    "for i in range(10):\n",
    "    if i == 5:\n",
    "        break\n",
    "else:\n",
    "    print('here')"
   ]
  },
  {
   "cell_type": "code",
   "execution_count": 137,
   "metadata": {
    "ExecuteTime": {
     "end_time": "2021-09-02T00:41:15.080977Z",
     "start_time": "2021-09-02T00:41:15.077977Z"
    }
   },
   "outputs": [
    {
     "name": "stdout",
     "output_type": "stream",
     "text": [
      "here\n"
     ]
    }
   ],
   "source": [
    "for i in range(10):\n",
    "    if i == 15:\n",
    "        break\n",
    "else:\n",
    "    print('here')"
   ]
  },
  {
   "cell_type": "markdown",
   "metadata": {},
   "source": [
    "### Списковые выражения"
   ]
  },
  {
   "cell_type": "markdown",
   "metadata": {},
   "source": [
    "Списоквые выражения (`list comprehensions`) позволяют просто создавать список с помощью итерирования в цикле `for`."
   ]
  },
  {
   "cell_type": "code",
   "execution_count": 138,
   "metadata": {
    "ExecuteTime": {
     "end_time": "2021-09-02T00:41:20.163973Z",
     "start_time": "2021-09-02T00:41:20.156975Z"
    }
   },
   "outputs": [
    {
     "name": "stdout",
     "output_type": "stream",
     "text": [
      "[1, 4, 9, 16, 25, 36, 49, 64, 81, 100]\n"
     ]
    }
   ],
   "source": [
    "squares = [x * x for x in range(1, 11)]\n",
    "print(squares)"
   ]
  },
  {
   "cell_type": "code",
   "execution_count": 139,
   "metadata": {
    "ExecuteTime": {
     "end_time": "2021-09-02T00:41:20.665407Z",
     "start_time": "2021-09-02T00:41:20.654410Z"
    }
   },
   "outputs": [
    {
     "name": "stdout",
     "output_type": "stream",
     "text": [
      "[4, 16, 36, 64, 100]\n"
     ]
    }
   ],
   "source": [
    "squares = [x * x for x in range(1, 11) if x % 2 == 0]\n",
    "print(squares)"
   ]
  },
  {
   "cell_type": "code",
   "execution_count": 140,
   "metadata": {
    "ExecuteTime": {
     "end_time": "2021-09-02T00:41:21.453288Z",
     "start_time": "2021-09-02T00:41:21.446287Z"
    }
   },
   "outputs": [
    {
     "name": "stdout",
     "output_type": "stream",
     "text": [
      "[4, 16, 36, 64, 100]\n"
     ]
    }
   ],
   "source": [
    "squares = []\n",
    "for x in range(1, 11):\n",
    "    if x % 2 == 0:\n",
    "        squares.append(x * x)\n",
    "print(squares)"
   ]
  },
  {
   "cell_type": "markdown",
   "metadata": {
    "ExecuteTime": {
     "end_time": "2021-09-02T00:10:00.507484Z",
     "start_time": "2021-09-02T00:10:00.497465Z"
    }
   },
   "source": [
    "List comprehension может оказываться значительно быстрее чем генерация списка с помощью цикла:"
   ]
  },
  {
   "cell_type": "code",
   "execution_count": 141,
   "metadata": {
    "ExecuteTime": {
     "end_time": "2021-09-02T00:41:42.685060Z",
     "start_time": "2021-09-02T00:41:42.670061Z"
    }
   },
   "outputs": [],
   "source": [
    "def get_comprehension():\n",
    "    return [x * x for x in range(1, 11000) if x % 2 == 0]\n",
    "\n",
    "def get_loop():\n",
    "    squares = []\n",
    "    for x in range(1, 11000):\n",
    "        if x % 2 == 0:\n",
    "            squares.append(x * x)\n",
    "    return squares"
   ]
  },
  {
   "cell_type": "code",
   "execution_count": 142,
   "metadata": {
    "ExecuteTime": {
     "end_time": "2021-09-02T00:41:46.362573Z",
     "start_time": "2021-09-02T00:41:43.517576Z"
    }
   },
   "outputs": [
    {
     "name": "stdout",
     "output_type": "stream",
     "text": [
      "349 µs ± 2.12 µs per loop (mean ± std. dev. of 7 runs, 1000 loops each)\n"
     ]
    }
   ],
   "source": [
    "%%timeit \n",
    "get_comprehension()"
   ]
  },
  {
   "cell_type": "code",
   "execution_count": 143,
   "metadata": {
    "ExecuteTime": {
     "end_time": "2021-09-02T00:41:49.840573Z",
     "start_time": "2021-09-02T00:41:46.363574Z"
    }
   },
   "outputs": [
    {
     "name": "stdout",
     "output_type": "stream",
     "text": [
      "425 µs ± 1.58 µs per loop (mean ± std. dev. of 7 runs, 1000 loops each)\n"
     ]
    }
   ],
   "source": [
    "%%timeit \n",
    "get_loop()"
   ]
  },
  {
   "cell_type": "markdown",
   "metadata": {},
   "source": [
    "Также возможна генерация с помощью двойного цикла:"
   ]
  },
  {
   "cell_type": "code",
   "execution_count": 144,
   "metadata": {
    "ExecuteTime": {
     "end_time": "2021-09-02T00:41:52.714729Z",
     "start_time": "2021-09-02T00:41:52.700730Z"
    }
   },
   "outputs": [
    {
     "data": {
      "text/plain": [
       "'1 2 3 4 5 6 7 8 9 10 11 12 13 14 15 16 17 18 19 20 21 22 23 24 25 14 27 15 28 16 29 17 30 18 31 19 32'"
      ]
     },
     "execution_count": 144,
     "metadata": {},
     "output_type": "execute_result"
    }
   ],
   "source": [
    "' '.join([\n",
    "    str(idx + jdx)\n",
    "    for idx in range(20)\n",
    "    for jdx in range(idx)\n",
    "    if idx * jdx % 13 == 0\n",
    "])"
   ]
  },
  {
   "cell_type": "markdown",
   "metadata": {},
   "source": [
    "<font color='red'>**Задача 10.** Выведите строку `result`, в которой записаны через запятую все ключи словаря `d2`, соответствующие максимальному значению в словаре `d1`. Ключи должны быть отсортированы в лексикографическом порядке. </font>"
   ]
  },
  {
   "cell_type": "code",
   "execution_count": 145,
   "metadata": {
    "ExecuteTime": {
     "end_time": "2021-09-02T00:41:55.876533Z",
     "start_time": "2021-09-02T00:41:55.860533Z"
    }
   },
   "outputs": [],
   "source": [
    "d1 = {'a':1, 'b':12, 'c':5, 'd':12}\n",
    "d2 = {'mama':12, 'dad':5, 'me':5, 'sister':10, 'bro':12}"
   ]
  },
  {
   "cell_type": "code",
   "execution_count": 146,
   "metadata": {
    "ExecuteTime": {
     "end_time": "2021-09-02T00:41:56.490709Z",
     "start_time": "2021-09-02T00:41:56.485708Z"
    }
   },
   "outputs": [],
   "source": [
    "# your code"
   ]
  },
  {
   "cell_type": "markdown",
   "metadata": {},
   "source": [
    "Проверь себя:"
   ]
  },
  {
   "cell_type": "code",
   "execution_count": null,
   "metadata": {
    "ExecuteTime": {
     "end_time": "2021-09-02T00:16:46.123412Z",
     "start_time": "2021-09-02T00:16:46.112414Z"
    }
   },
   "outputs": [],
   "source": [
    "assert result == 'bro,mama'"
   ]
  },
  {
   "cell_type": "markdown",
   "metadata": {},
   "source": [
    "<font color='red'>**Задача 11.** Составьте словарь `result`, содержащий только те ключи из `d1`, которым в `d2` соответствует те же значения, что и в `d1`. Значения в `d3` должны соответствовать значениям в `d1` и `d2`. </font>\n"
   ]
  },
  {
   "cell_type": "code",
   "execution_count": 147,
   "metadata": {
    "ExecuteTime": {
     "end_time": "2021-09-02T00:41:58.209588Z",
     "start_time": "2021-09-02T00:41:58.196589Z"
    }
   },
   "outputs": [],
   "source": [
    "d1 = {'a':1, 'b':12, 'c':5, 'd':12}\n",
    "d2 = {'a':12, 'b':12, 'c':5, 'f':10, 'g':12}"
   ]
  },
  {
   "cell_type": "code",
   "execution_count": 148,
   "metadata": {
    "ExecuteTime": {
     "end_time": "2021-09-02T00:41:58.414677Z",
     "start_time": "2021-09-02T00:41:58.399677Z"
    }
   },
   "outputs": [],
   "source": [
    "## your code here"
   ]
  },
  {
   "cell_type": "markdown",
   "metadata": {},
   "source": [
    "Проверь себя:"
   ]
  },
  {
   "cell_type": "code",
   "execution_count": null,
   "metadata": {
    "ExecuteTime": {
     "end_time": "2021-09-02T00:17:40.900844Z",
     "start_time": "2021-09-02T00:17:40.888842Z"
    }
   },
   "outputs": [],
   "source": [
    "assert result == {'b':12, 'c':5}"
   ]
  },
  {
   "cell_type": "markdown",
   "metadata": {},
   "source": [
    "## Организация кода"
   ]
  },
  {
   "cell_type": "markdown",
   "metadata": {},
   "source": [
    "### Функции"
   ]
  },
  {
   "cell_type": "markdown",
   "metadata": {},
   "source": [
    "Функции в Python задаются с помощью оператора `def`. Отступы важны!"
   ]
  },
  {
   "cell_type": "code",
   "execution_count": 149,
   "metadata": {
    "ExecuteTime": {
     "end_time": "2021-09-02T00:42:04.064145Z",
     "start_time": "2021-09-02T00:42:04.060147Z"
    }
   },
   "outputs": [],
   "source": [
    "def sqr(x):\n",
    "    y = x ** 2\n",
    "    return y"
   ]
  },
  {
   "cell_type": "markdown",
   "metadata": {},
   "source": [
    "**Важно**, объекты в функцию передаются по ссылке!"
   ]
  },
  {
   "cell_type": "code",
   "execution_count": 150,
   "metadata": {
    "ExecuteTime": {
     "end_time": "2021-09-02T00:42:05.336207Z",
     "start_time": "2021-09-02T00:42:05.325207Z"
    }
   },
   "outputs": [],
   "source": [
    "l = [1, 2, 3]"
   ]
  },
  {
   "cell_type": "code",
   "execution_count": 151,
   "metadata": {
    "ExecuteTime": {
     "end_time": "2021-09-02T00:42:06.502296Z",
     "start_time": "2021-09-02T00:42:06.494299Z"
    }
   },
   "outputs": [],
   "source": [
    "def modify_object(x):\n",
    "    x[0] = 2\n",
    "    return x"
   ]
  },
  {
   "cell_type": "code",
   "execution_count": 152,
   "metadata": {
    "ExecuteTime": {
     "end_time": "2021-09-02T00:42:44.856300Z",
     "start_time": "2021-09-02T00:42:44.844301Z"
    }
   },
   "outputs": [
    {
     "data": {
      "text/plain": [
       "[2, 2, 3]"
      ]
     },
     "execution_count": 152,
     "metadata": {},
     "output_type": "execute_result"
    }
   ],
   "source": [
    "modify_object(l)"
   ]
  },
  {
   "cell_type": "code",
   "execution_count": 153,
   "metadata": {
    "ExecuteTime": {
     "end_time": "2021-09-02T00:42:45.644980Z",
     "start_time": "2021-09-02T00:42:45.628980Z"
    }
   },
   "outputs": [
    {
     "data": {
      "text/plain": [
       "[2, 2, 3]"
      ]
     },
     "execution_count": 153,
     "metadata": {},
     "output_type": "execute_result"
    }
   ],
   "source": [
    "l"
   ]
  },
  {
   "cell_type": "markdown",
   "metadata": {},
   "source": [
    "Функция — тоже объект! Можно присвоить переменной функцию:"
   ]
  },
  {
   "cell_type": "code",
   "execution_count": 154,
   "metadata": {
    "ExecuteTime": {
     "end_time": "2021-09-02T00:42:46.952942Z",
     "start_time": "2021-09-02T00:42:46.939945Z"
    }
   },
   "outputs": [
    {
     "data": {
      "text/plain": [
       "<function __main__.sqr(x)>"
      ]
     },
     "execution_count": 154,
     "metadata": {},
     "output_type": "execute_result"
    }
   ],
   "source": [
    "y = sqr\n",
    "y"
   ]
  },
  {
   "cell_type": "markdown",
   "metadata": {},
   "source": [
    "### Модули"
   ]
  },
  {
   "cell_type": "markdown",
   "metadata": {},
   "source": [
    "Любые установленные и встроенные пакеты можно импортировать с помощью оператора `import`. Написанные вами модули, помещённые по нужному пути (по умолчанию - путь откуда запускается программа), также можно импортировать при помощи `import`."
   ]
  },
  {
   "cell_type": "code",
   "execution_count": 155,
   "metadata": {
    "ExecuteTime": {
     "end_time": "2021-09-02T00:42:49.717490Z",
     "start_time": "2021-09-02T00:42:49.700493Z"
    }
   },
   "outputs": [],
   "source": [
    "import time"
   ]
  },
  {
   "cell_type": "markdown",
   "metadata": {},
   "source": [
    "Области видимости в Python:"
   ]
  },
  {
   "cell_type": "code",
   "execution_count": 156,
   "metadata": {
    "ExecuteTime": {
     "end_time": "2021-09-02T00:42:50.280254Z",
     "start_time": "2021-09-02T00:42:50.276277Z"
    }
   },
   "outputs": [
    {
     "data": {
      "text/plain": [
       "'Thu Sep  2 03:42:50 2021'"
      ]
     },
     "execution_count": 156,
     "metadata": {},
     "output_type": "execute_result"
    }
   ],
   "source": [
    "time.ctime()"
   ]
  },
  {
   "cell_type": "code",
   "execution_count": 157,
   "metadata": {
    "ExecuteTime": {
     "end_time": "2021-09-02T00:42:51.826578Z",
     "start_time": "2021-09-02T00:42:51.813578Z"
    }
   },
   "outputs": [],
   "source": [
    "from time import ctime"
   ]
  },
  {
   "cell_type": "code",
   "execution_count": 158,
   "metadata": {
    "ExecuteTime": {
     "end_time": "2021-09-02T00:42:52.142578Z",
     "start_time": "2021-09-02T00:42:52.133578Z"
    }
   },
   "outputs": [
    {
     "data": {
      "text/plain": [
       "'Thu Sep  2 03:42:52 2021'"
      ]
     },
     "execution_count": 158,
     "metadata": {},
     "output_type": "execute_result"
    }
   ],
   "source": [
    "ctime()"
   ]
  },
  {
   "cell_type": "markdown",
   "metadata": {},
   "source": [
    "Если в модуле произошли изменения, его придётся перегрузить:"
   ]
  },
  {
   "cell_type": "code",
   "execution_count": 159,
   "metadata": {
    "ExecuteTime": {
     "end_time": "2021-09-02T00:42:53.251002Z",
     "start_time": "2021-09-02T00:42:53.244004Z"
    }
   },
   "outputs": [
    {
     "data": {
      "text/plain": [
       "<module 'time' (built-in)>"
      ]
     },
     "execution_count": 159,
     "metadata": {},
     "output_type": "execute_result"
    }
   ],
   "source": [
    "import imp\n",
    "imp.reload(time)"
   ]
  },
  {
   "cell_type": "markdown",
   "metadata": {
    "ExecuteTime": {
     "end_time": "2021-09-02T00:19:03.843042Z",
     "start_time": "2021-09-02T00:19:03.825043Z"
    }
   },
   "source": [
    "Для автоматической перезагрузки изменённых модулей в jupyter notebook можно использовать магическую команду:"
   ]
  },
  {
   "cell_type": "code",
   "execution_count": 160,
   "metadata": {
    "ExecuteTime": {
     "end_time": "2021-09-02T00:42:55.618629Z",
     "start_time": "2021-09-02T00:42:55.595629Z"
    }
   },
   "outputs": [],
   "source": [
    "%load_ext autoreload\n",
    "%autoreload 2"
   ]
  },
  {
   "cell_type": "code",
   "execution_count": 161,
   "metadata": {
    "ExecuteTime": {
     "end_time": "2021-09-02T00:42:56.434903Z",
     "start_time": "2021-09-02T00:42:56.404904Z"
    }
   },
   "outputs": [],
   "source": [
    "import my_simple_module"
   ]
  },
  {
   "cell_type": "code",
   "execution_count": 162,
   "metadata": {
    "ExecuteTime": {
     "end_time": "2021-09-02T00:42:57.325558Z",
     "start_time": "2021-09-02T00:42:57.292562Z"
    }
   },
   "outputs": [
    {
     "name": "stdout",
     "output_type": "stream",
     "text": [
      "You invoke simple_func from C:\\Users\\nahod\\Documents\\CodeBlocks\\MSU\\11 семестр\\teaching\\mmp_practicum_fall_2021\\Seminars\\intro_python\\my_simple_module.py\n"
     ]
    }
   ],
   "source": [
    "my_simple_module.simple_func()"
   ]
  },
  {
   "cell_type": "markdown",
   "metadata": {},
   "source": [
    "### Работа с файлами"
   ]
  },
  {
   "cell_type": "markdown",
   "metadata": {},
   "source": [
    "Объекты-файлы:"
   ]
  },
  {
   "cell_type": "code",
   "execution_count": 163,
   "metadata": {
    "ExecuteTime": {
     "end_time": "2021-09-02T00:43:01.229953Z",
     "start_time": "2021-09-02T00:43:01.211954Z"
    }
   },
   "outputs": [],
   "source": [
    "f = open('my_file', 'w')"
   ]
  },
  {
   "cell_type": "markdown",
   "metadata": {},
   "source": [
    "`open` — создаёт объект-файл. Параметр 'w' для записи, 'r' для чтения.\n",
    "\n",
    "Запись в файл:"
   ]
  },
  {
   "cell_type": "code",
   "execution_count": 164,
   "metadata": {
    "ExecuteTime": {
     "end_time": "2021-09-02T00:43:04.071123Z",
     "start_time": "2021-09-02T00:43:04.052125Z"
    }
   },
   "outputs": [
    {
     "data": {
      "text/plain": [
       "10"
      ]
     },
     "execution_count": 164,
     "metadata": {},
     "output_type": "execute_result"
    }
   ],
   "source": [
    "f.write('трололо1 \\n')\n",
    "f.write('трололо2 \\n')"
   ]
  },
  {
   "cell_type": "markdown",
   "metadata": {},
   "source": [
    "Закрытие файла:"
   ]
  },
  {
   "cell_type": "code",
   "execution_count": 165,
   "metadata": {
    "ExecuteTime": {
     "end_time": "2021-09-02T00:43:05.529234Z",
     "start_time": "2021-09-02T00:43:05.508233Z"
    }
   },
   "outputs": [],
   "source": [
    "f.close()"
   ]
  },
  {
   "cell_type": "markdown",
   "metadata": {},
   "source": [
    "Читать файл можно целиком:"
   ]
  },
  {
   "cell_type": "code",
   "execution_count": 166,
   "metadata": {
    "ExecuteTime": {
     "end_time": "2021-09-02T00:43:05.954923Z",
     "start_time": "2021-09-02T00:43:05.932927Z"
    }
   },
   "outputs": [
    {
     "data": {
      "text/plain": [
       "'трололо1 \\nтрололо2 \\n'"
      ]
     },
     "execution_count": 166,
     "metadata": {},
     "output_type": "execute_result"
    }
   ],
   "source": [
    "f = open('my_file', 'r')\n",
    "f.read()"
   ]
  },
  {
   "cell_type": "markdown",
   "metadata": {},
   "source": [
    "Можно по строчкам:"
   ]
  },
  {
   "cell_type": "code",
   "execution_count": 167,
   "metadata": {
    "ExecuteTime": {
     "end_time": "2021-09-02T00:43:06.555901Z",
     "start_time": "2021-09-02T00:43:06.531901Z"
    }
   },
   "outputs": [
    {
     "data": {
      "text/plain": [
       "'трололо1 \\n'"
      ]
     },
     "execution_count": 167,
     "metadata": {},
     "output_type": "execute_result"
    }
   ],
   "source": [
    "f = open('my_file', 'r')\n",
    "f.readline()"
   ]
  },
  {
   "cell_type": "code",
   "execution_count": 168,
   "metadata": {
    "ExecuteTime": {
     "end_time": "2021-09-02T00:43:06.984846Z",
     "start_time": "2021-09-02T00:43:06.956848Z"
    }
   },
   "outputs": [
    {
     "data": {
      "text/plain": [
       "'трололо2 \\n'"
      ]
     },
     "execution_count": 168,
     "metadata": {},
     "output_type": "execute_result"
    }
   ],
   "source": [
    "f.readline()"
   ]
  },
  {
   "cell_type": "code",
   "execution_count": 169,
   "metadata": {
    "ExecuteTime": {
     "end_time": "2021-09-02T00:43:07.565845Z",
     "start_time": "2021-09-02T00:43:07.540846Z"
    }
   },
   "outputs": [],
   "source": [
    "f.close()"
   ]
  },
  {
   "cell_type": "markdown",
   "metadata": {},
   "source": [
    "При работе с файлами можно использовать мененджеры контекстов:"
   ]
  },
  {
   "cell_type": "code",
   "execution_count": 170,
   "metadata": {
    "ExecuteTime": {
     "end_time": "2021-09-02T00:43:08.996170Z",
     "start_time": "2021-09-02T00:43:08.972170Z"
    }
   },
   "outputs": [
    {
     "name": "stdout",
     "output_type": "stream",
     "text": [
      "трололо1 \n",
      "\n",
      "трололо2 \n",
      "\n"
     ]
    }
   ],
   "source": [
    "with open('my_file', 'r') as f:\n",
    "    for line in f:\n",
    "        print(line)"
   ]
  },
  {
   "cell_type": "markdown",
   "metadata": {},
   "source": [
    "Такой мененджер контекстов закроет файл даже в случае выбрасывания исключения!"
   ]
  },
  {
   "cell_type": "markdown",
   "metadata": {},
   "source": [
    "### Ввод из коммандной строки"
   ]
  },
  {
   "cell_type": "markdown",
   "metadata": {},
   "source": [
    "Чтобы считать из стандартного потока ввода можно воспользоваться командой `input`:"
   ]
  },
  {
   "cell_type": "code",
   "execution_count": 171,
   "metadata": {
    "ExecuteTime": {
     "end_time": "2021-09-02T00:43:14.154982Z",
     "start_time": "2021-09-02T00:43:11.268167Z"
    }
   },
   "outputs": [
    {
     "name": "stdout",
     "output_type": "stream",
     "text": [
      "1 2 3 4\n",
      "['1', '2', '3', '4']\n"
     ]
    }
   ],
   "source": [
    "data = input()\n",
    "\n",
    "print(data.strip().split())"
   ]
  },
  {
   "cell_type": "markdown",
   "metadata": {},
   "source": [
    "## Разные задачи"
   ]
  },
  {
   "cell_type": "markdown",
   "metadata": {},
   "source": [
    "<font color='red'> **Задача 12*.** Написать функцию `check_first_sentence_is_second`, принимающую на вход два предложения. Необходимо проверить, можно ли получить второе предложения из первого с помощью перестановки и удаления слов. Каждая из строк содержит только буквы и пробелы, любые буквенные последовательности разделённые пробелом считаются разными словами.</font>"
   ]
  },
  {
   "cell_type": "code",
   "execution_count": 172,
   "metadata": {
    "ExecuteTime": {
     "end_time": "2021-09-02T00:43:17.456597Z",
     "start_time": "2021-09-02T00:43:17.427599Z"
    }
   },
   "outputs": [],
   "source": [
    "# your code here"
   ]
  },
  {
   "cell_type": "code",
   "execution_count": null,
   "metadata": {},
   "outputs": [],
   "source": [
    "s1 = \"люк я твой отец\"\n",
    "s2 = \"отец я твой люк\"\n",
    "assert check_first_sentence_is_second(s1, s2) is True"
   ]
  },
  {
   "cell_type": "code",
   "execution_count": null,
   "metadata": {},
   "outputs": [],
   "source": [
    "s1 = \"люк я твой отец\"\n",
    "s2 = \"люк я отец\"\n",
    "assert check_first_sentence_is_second(s1, s2) is True"
   ]
  },
  {
   "cell_type": "code",
   "execution_count": null,
   "metadata": {},
   "outputs": [],
   "source": [
    "s1 = \"люк я твой отец\"\n",
    "s2 = \"лея я отец\"\n",
    "assert check_first_sentence_is_second(s1, s2) is False"
   ]
  },
  {
   "cell_type": "markdown",
   "metadata": {},
   "source": [
    "<font color='red'> **Задача 13*.** Написать функцию `counting_sort`, реализующую сортировку подсчётом для списка целых чисел. Функция принимает список из целых чисел. </font> \n",
    "[Описание алгоритма сортировки на вики.](https://ru.wikipedia.org/wiki/%D0%A1%D0%BE%D1%80%D1%82%D0%B8%D1%80%D0%BE%D0%B2%D0%BA%D0%B0_%D0%BF%D0%BE%D0%B4%D1%81%D1%87%D1%91%D1%82%D0%BE%D0%BC)"
   ]
  },
  {
   "cell_type": "code",
   "execution_count": 173,
   "metadata": {
    "ExecuteTime": {
     "end_time": "2021-09-02T00:43:19.670131Z",
     "start_time": "2021-09-02T00:43:19.644131Z"
    }
   },
   "outputs": [],
   "source": [
    "# your code here"
   ]
  },
  {
   "cell_type": "code",
   "execution_count": null,
   "metadata": {},
   "outputs": [],
   "source": [
    "l = [5, 5, 4, 2, 3, 4, 2, 1]\n",
    "\n",
    "assert counting_sort(l) == [1, 2, 2, 3, 4, 4, 5, 5]"
   ]
  },
  {
   "cell_type": "markdown",
   "metadata": {},
   "source": [
    "<font color='red'>**Задача 14*.** В строке перечислены слова через запятую. Напишите функцию `get_unique_words`, составляющую список из уникальных слов, отсортированных в порядке первого появления каждого слова, не используя циклы. </font>"
   ]
  },
  {
   "cell_type": "code",
   "execution_count": 174,
   "metadata": {
    "ExecuteTime": {
     "end_time": "2021-09-02T00:43:22.727865Z",
     "start_time": "2021-09-02T00:43:22.707867Z"
    }
   },
   "outputs": [],
   "source": [
    "# your code here"
   ]
  },
  {
   "cell_type": "code",
   "execution_count": null,
   "metadata": {},
   "outputs": [],
   "source": [
    "s = \"я,люблю,море,я,лечу,на,море,я,умею,плавать,в,море,какое,чистое,море\"\n",
    "\n",
    "assert result == ['я', 'люблю', 'море', 'лечу', 'на', 'умею', 'плавать', 'в', 'какое', 'чистое']"
   ]
  }
 ],
 "metadata": {
  "kernelspec": {
   "display_name": "Python 3 (ipykernel)",
   "language": "python",
   "name": "python3"
  },
  "language_info": {
   "codemirror_mode": {
    "name": "ipython",
    "version": 3
   },
   "file_extension": ".py",
   "mimetype": "text/x-python",
   "name": "python",
   "nbconvert_exporter": "python",
   "pygments_lexer": "ipython3",
   "version": "3.9.6"
  }
 },
 "nbformat": 4,
 "nbformat_minor": 2
}
